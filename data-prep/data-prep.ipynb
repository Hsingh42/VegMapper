{
 "cells": [
  {
   "cell_type": "markdown",
   "metadata": {},
   "source": [
    "# Data Stack Preparation (data-prep)\n",
    "\n",
    "This tutorial will walk you through the workflow of the [VegMapper](https://github.com/NaiaraSPinto/VegMapper) repo. At the end of this tutorial, you will create multi-band geotiffs that can be used for the identification and classification of specific agroforestry systems, such as palm-oil plantations."
   ]
  },
  {
   "cell_type": "markdown",
   "metadata": {},
   "source": [
    "## 1) Get credentials ##\n",
    "This repo makes use of several third-party services which will require credentials. These can be obtained using the following links. Please note that approval of an account may take several days in some cases.\n",
    "\n",
    "1) [NASA Earthdata](https://urs.earthdata.nasa.gov/users/new)\n",
    "\n",
    "2) [JAXA](https://www.eorc.jaxa.jp/ALOS/en/palsar_fnf/registration.htm)\n",
    "\n",
    "3) [AWS S3/EC2](https://portal.aws.amazon.com/billing/signup#/start) or [Google Cloud Storage/GCS](https://cloud.google.com/storage/), if using cloud storage is desired\n",
    "\n",
    "4) [Google Earth Engine](https://earthengine.google.com/)"
   ]
  },
  {
   "cell_type": "markdown",
   "metadata": {},
   "source": [
    "One-time authentication for Google Earth Engine:"
   ]
  },
  {
   "cell_type": "code",
   "execution_count": 1,
   "metadata": {},
   "outputs": [
    {
     "data": {
      "text/html": [
       "<p>To authorize access needed by Earth Engine, open the following\n",
       "        URL in a web browser and follow the instructions:</p>\n",
       "        <p><a href=https://accounts.google.com/o/oauth2/auth?client_id=517222506229-vsmmajv00ul0bs7p89v5m89qs8eb9359.apps.googleusercontent.com&scope=https%3A%2F%2Fwww.googleapis.com%2Fauth%2Fearthengine+https%3A%2F%2Fwww.googleapis.com%2Fauth%2Fdevstorage.full_control&redirect_uri=urn%3Aietf%3Awg%3Aoauth%3A2.0%3Aoob&response_type=code&code_challenge=HzJFR3bSpLGBCiq99AX965BQyLUMw2qMz6-H1TYuAyk&code_challenge_method=S256>https://accounts.google.com/o/oauth2/auth?client_id=517222506229-vsmmajv00ul0bs7p89v5m89qs8eb9359.apps.googleusercontent.com&scope=https%3A%2F%2Fwww.googleapis.com%2Fauth%2Fearthengine+https%3A%2F%2Fwww.googleapis.com%2Fauth%2Fdevstorage.full_control&redirect_uri=urn%3Aietf%3Awg%3Aoauth%3A2.0%3Aoob&response_type=code&code_challenge=HzJFR3bSpLGBCiq99AX965BQyLUMw2qMz6-H1TYuAyk&code_challenge_method=S256</a></p>\n",
       "        <p>The authorization workflow will generate a code, which you\n",
       "        should paste in the box below</p>\n",
       "        "
      ],
      "text/plain": [
       "<IPython.core.display.HTML object>"
      ]
     },
     "metadata": {},
     "output_type": "display_data"
    },
    {
     "name": "stdout",
     "output_type": "stream",
     "text": [
      "Enter verification code: xxxxxx\n",
      "Successfully saved authorization token.\n"
     ]
    }
   ],
   "source": [
    "import ee\n",
    "ee.Authenticate()"
   ]
  },
  {
   "cell_type": "markdown",
   "metadata": {},
   "source": [
    "## 2) Set up data-prep conda environment ##\n",
    "\n",
    "To create the **data-prep** environment and install required packages, run these commands in your terminal:\n",
    "\n",
    "```\n",
    "% cd data-prep\n",
    "% conda env create -f data-prep-env.yml\n",
    "% conda activate data-prep\n",
    "```"
   ]
  },
  {
   "cell_type": "markdown",
   "metadata": {},
   "source": [
    "Run **setup.py** to verify environment and permissions of scripts:"
   ]
  },
  {
   "cell_type": "code",
   "execution_count": 1,
   "metadata": {},
   "outputs": [
    {
     "name": "stdout",
     "output_type": "stream",
     "text": [
      "ALOS-2/alos2_download_mosaic.py\n",
      "ALOS-2/alos2_proc.py\n",
      "Landsat/gee_export_landsat_ndvi.py\n",
      "MODIS/gee_export_modis_tc.py\n",
      "Sentinel/s1_build_vrt.py\n",
      "Sentinel/s1_metadata_summary.py\n",
      "Sentinel/s1_proc.py\n",
      "Sentinel/s1_remove_edges.py\n",
      "Sentinel/s1_submit_hyp3_jobs.py\n",
      "Stacks/build_stacks.py\n",
      "Stacks/build_condensed_stacks.py\n",
      "Utils/calc_vrt_stats.py\n",
      "Utils/prep_tiles.py\n",
      "Utils/remove_edges.py\n"
     ]
    }
   ],
   "source": [
    "%run setup.py"
   ]
  },
  {
   "cell_type": "markdown",
   "metadata": {},
   "source": [
    "## 3) Set up project directory ##\n",
    "\n",
    "This repo will make use of one consistent project directory, referred from here as `proj_dir`. The name of `proj_dir` is up to you, but all subfolders and completed tiles will be generated automatically. The completed stacks as well as any intermediate products will be stored in `proj_dir`. At the moment, AWS S3, GCS, and local storage systems are supported. Some extra setup may be required, depending on your storage system of choice:\n",
    "\n",
    "* To set up AWS Command Line Interface (CLI) configurations and credentials (required if your `proj_dir` is S3):\n",
    "\n",
    "    ```\n",
    "    (data-prep) % aws configure\n",
    "    ```\n",
    "\n",
    "    where you will be asked to enter your **aws_access_key_id** and **aws_secret_access_key**.\n",
    "    \n",
    "    If using S3, then `proj_dir` should be `s3://your_bucket/some_prefix` when used as an argument to scripts.\n",
    "\n",
    "\n",
    "* To set up Google Cloud gsutil tool (required if your `proj_dir` is GCS):\n",
    "\n",
    "    ```\n",
    "    (data-prep) % gsutil config\n",
    "    ```\n",
    "\n",
    "    Then you will be prompted to sign in using your Google credentials.\n",
    "    \n",
    "    If using GCS, then `proj_dir` should be `gs://your_bucket/some_prefix` when used as an argument to scripts.\n",
    "    \n",
    "    \n",
    "* If using local storage, create a new folder at the desired location in your filesystem. Note that using local storage is not advised as the stacks generated will be large files, and some steps will be faster if run in the cloud. If using local storage, then `proj_dir` should be `your_local_path` when passed as an argument to scripts. Note that `your_local_path` must point to a directory that exists--it will not be automatically generated for you."
   ]
  },
  {
   "cell_type": "markdown",
   "metadata": {},
   "source": [
    "## 4) Prepare UTM tiles for Area of Interest (AOI) ##\n",
    "\n",
    "To create the stacks, a universal tiling system is required to ensure all data sources are aligned to the same grid. In the following section, we will generate a geoJSON file that contains the tiles to be used by all of the data processing scripts."
   ]
  },
  {
   "cell_type": "markdown",
   "metadata": {},
   "source": [
    "### prep_tiles.py ###\n",
    "\n",
    "prep.tiles.py will create the tile geoJSON. It takes three required arguments: aoi_name, aoi_shp, and tile_size. aoi_name is used to name the output geojson. aoi_shp should point to a shapefile or geoJSON of the area of interest. geoJSON files for many subnational administrative boundaries can be found here: (insert link) tile_size is the desired size of each tile, in meters.\n",
    "\n",
    "### Usage ###\n",
    "\n",
    "```\n",
    "(data-prep) % python prep_tiles.py [-h] aoi_name aoi_shp tile_size\n",
    "```"
   ]
  },
  {
   "cell_type": "markdown",
   "metadata": {},
   "source": [
    "Suppose our area of interest is the Ucayali region of Peru, highlighted in blue:\n",
    "\n",
    "![ucayali_region](img/ucayali_region.png)\n",
    "\n",
    "Create tiles for our AOI with a tile size of 150x150 km:"
   ]
  },
  {
   "cell_type": "code",
   "execution_count": 9,
   "metadata": {},
   "outputs": [
    {
     "name": "stdout",
     "output_type": "stream",
     "text": [
      "Tiles for Aoi/ucayali/ucayali: aoi/ucayali/ucayali_tiles.geojson\n",
      "14 out of 20 tiles intersecting Aoi/ucayali/ucayali\n"
     ]
    }
   ],
   "source": [
    "%run Utils/prep_tiles.py AOI/ucayali/ucayali AOI/ucayali/ucayali_boundary.geojson 150000"
   ]
  },
  {
   "cell_type": "markdown",
   "metadata": {},
   "source": [
    "Output tiles:\n",
    "\n",
    "![ucayali_tiles](img/ucayali_tiles.png)\n",
    "\n",
    "Note that some tiles do not intersect the region. These will be masked out and will not be used for the final stacks."
   ]
  },
  {
   "cell_type": "markdown",
   "metadata": {},
   "source": [
    "## 5) Prepare Sentinel-1 Tiles ##\n",
    "\n",
    "The first piece of the data stack is Sentinel-1 tiles. In the following section, we search for granules within our AOI, process them using the ASF HyP3 API, and calculate statistics for the granules, saving the results as .tif files in the sentinel_1 subdirectory under proj_dir."
   ]
  },
  {
   "cell_type": "markdown",
   "metadata": {},
   "source": [
    "## Search for Sentinel-1 granules on [ASF Vertex](https://search.asf.alaska.edu/#/) ##\n",
    "\n",
    "1. Sign in using your Earthdata credentials, which were obtained in section 1. If you haven't used ASF Vertex before, you will need to agree their terms in order to use their HyP3 processing.\n",
    "\n",
    "2. Use the following \"Additional Filters\" when searching for granules within your AOI:\n",
    "\n",
    "    * File Type: L1 Detected High-Res Dual-Pol (GRD-HD)\n",
    "    * Beam Mode: IW\n",
    "    * Polarization: VV+VH\n",
    "\n",
    "    ![vertex_search_filters](img/vertex_search_filters.png)\n",
    "\n",
    "3. Add the selected granules into the download queue:\n",
    "\n",
    "    ![vertex_add_queue](img/vertex_add_queue.png)\n",
    "\n",
    "4. Download metadata files. Download at least one csv or geojson file, which will be used for submitting HyP3 jobs.\n",
    "\n",
    "    ![vertex_download_metadata](img/vertex_download_metadata.png)\n",
    "\n",
    "5. Clear the selected granules in the downloads. Do not download these GRD-HD products as we will submit HyP3 jobs to apply radiometric terrain correction (RTC) to them."
   ]
  },
  {
   "cell_type": "markdown",
   "metadata": {},
   "source": [
    "## Submit HyP3 RTC jobs ##\n",
    "\n",
    "For the initial processing of the Sentinel-1 granules, we make use of ASF's HyP3 API. Information about the specifics of this processing can be found in the [HyP3 documentation](https://hyp3-docs.asf.alaska.edu/).\n",
    "\n",
    "### s1_submit_hyp3_jobs.py ###\n",
    "\n",
    "`s1_submit_hyp3_jobs.py` will submit the granules chosen in the previous step to the HyP3 API for processing. The results can either be saved locally or uploaded to cloud storage, such as AWS S3 or Google Cloud Storage (GCS). It takes two arguments: `proj_dir`, and `csv/geojson`. `proj_dir` should point to your project directory (see section 3).\n",
    "`csv/geojson` should point to the location of the metadata files containing a list of granules to be submitted for processing downloaded in the previous step. The processed granules will be saved in the following directory structure:\n",
    "```\n",
    "        proj_dir\n",
    "           └──sentinel_1\n",
    "               └──<year>\n",
    "                   └──<path_frame>\n",
    "```\n",
    "\n",
    "### Notes ###\n",
    "\n",
    "* Since ASF HyP3 stores the processed granules in their AWS S3 buckets, the data transfer will be much faster if you use an AWS S3 bucket for `proj_dir`.\n",
    "* This script will require your Earthdata credentials, which can be obtained in section 1.\n",
    "\n",
    "\n",
    "    \n",
    "### Usage ###\n",
    "\n",
    "```\n",
    "(data-prep) % python s1_submit_hyp3_jobs.py [-h] proj_dir csv/geojson\n",
    "```"
   ]
  },
  {
   "cell_type": "markdown",
   "metadata": {},
   "source": [
    "Submit Sentinel-1 granules from the Ucayali region in the year 2017 for processing:"
   ]
  },
  {
   "cell_type": "code",
   "execution_count": null,
   "metadata": {},
   "outputs": [],
   "source": [
    "%run Sentinel/s1_submit_hyp3_jobs.py Sentinel/granules/ucayali/ucayali_sentinel_granules_2017.geojson"
   ]
  },
  {
   "cell_type": "markdown",
   "metadata": {},
   "source": [
    "## Sentinel-1 Processing ##\n",
    "\n",
    "The final processing step involves calculating the temporal mean for the Sentinel-1 granules and removing left/right (cross-track) edge pixels where border noise is prominent. \n",
    "\n",
    "### s1_proc.py ###\n",
    "\n",
    "s1_proc.py handles this final processing step. It achieves this using helper scripts in the Sentinel directory: **s1_build_vrt.py** and **calc_vrt_stats.py** for the temporal mean, and **remove_edges.py** for removing edge pixels. It takes 5 arguments: path_frame, m1, and m2 (all optional), proj_dir, and year (both required). If path_frame is specified, only granules matching path_frame will be processed; otherwise, all path_frames under srcpath/year will be processed. If m1 and m2 are specified, only granules with acquisition month >= m1 and <= m2 will be processed. proj_dir refers to the project directory. year is the year of granules to be processed.\n",
    "\n",
    "### Notes ###\n",
    "\n",
    "* The processing will be slow if srcpath is on AWS S3 or GCS because it requires heavy network I/O between the cloud and your local machine. If srcpath is on AWS S3, it is strongly recommended that you run the processing on AWS EC2.\n",
    "\n",
    "### Usage ###\n",
    "\n",
    "```\n",
    "(data-prep) % python s1_proc.py [-h] [--pf path_frame] [--m1 m1] [--m2 m2] proj_dir year\n",
    "```"
   ]
  },
  {
   "cell_type": "markdown",
   "metadata": {},
   "source": [
    "Process all granules stored locally for the year 2017:"
   ]
  },
  {
   "cell_type": "code",
   "execution_count": null,
   "metadata": {},
   "outputs": [],
   "source": [
    "%run Sentinel/s1_proc.py . 2017"
   ]
  },
  {
   "cell_type": "markdown",
   "metadata": {},
   "source": [
    "## 6) Prepare ALOS-2 tiles ##\n",
    "\n",
    "The next step of the data stack is ALOS-2 tiles. This involves downloading the ALOS-2 mosaic and processing them using an Enhanced Lee filter, storing the results in the alos2_mosaic subdirectory under proj_dir."
   ]
  },
  {
   "cell_type": "markdown",
   "metadata": {},
   "source": [
    "## Download ALOS/ALOS-2 Mosaic ##\n",
    "First, the ALOS-2 mosaic must be downloaded from the JAXA servers. This is accomplished via `alos2_download_mosaic.py`.\n",
    "\n",
    "### alos2_download_mosaic.py ###\n",
    "This script takes three arguments: `proj_dir`, `aoi`, and `year`. `proj_dir` refers to your project_directory (see section 3). `aoi` should point to a shapefile or geojson containing your area of interest (see section 4). `year` is the year you wish to download the mosaic for (currently available for 2007-2010 and 2015-2019). The results will be stored in the following directory structure:\n",
    "\n",
    "```\n",
    "        proj_dir\n",
    "           └──alos2_mosaic\n",
    "               └──<year>\n",
    "                   └──tarfiles\n",
    "```\n",
    "### Notes ###\n",
    "\n",
    "* Downloading ALOS/ALOS-2 Mosaic data requires a JAXA account, which can be obtained in section 1.\n",
    "\n",
    "### Usage ###\n",
    "```\n",
    "(data-prep) % alos2_download_mosaic.py [-h] proj_dir aoi year\n",
    "```"
   ]
  },
  {
   "cell_type": "code",
   "execution_count": null,
   "metadata": {},
   "outputs": [],
   "source": [
    "%run ALOS-2/alos2_download_mosaic.py <bucket> <aoi> <year>"
   ]
  },
  {
   "cell_type": "markdown",
   "metadata": {},
   "source": [
    "## ALOS-2 Processing ##\n",
    "Next, the ALOS-2 mosaic is processed using an Enhanced Lee filter via `alos2_proc.py`. This will produce three .tif images for each tile: HV, HH, and INC, referring to the different polarizations of the ALOS-2 sensing instrument."
   ]
  },
  {
   "cell_type": "markdown",
   "metadata": {},
   "source": [
    "### alos2_proc.py ###\n",
    "This script takes three arguments: `proj_dir`, `aoi`, and `year`. All three arguments should be the same used in the previous step. Results will be stored in the following directory structure:\n",
    "```\n",
    "        proj_dir\n",
    "           └──alos2_mosaic\n",
    "               └──<year>\n",
    "                   └──<tile name>\n",
    "```\n",
    "\n",
    "### Usage ###\n",
    "\n",
    "```\n",
    "(data-prep) % alos2_proc.py [-h] proj_dir aoi year\n",
    "```"
   ]
  },
  {
   "cell_type": "code",
   "execution_count": null,
   "metadata": {},
   "outputs": [],
   "source": [
    "%run ALOS-2/alos2_proc.py <bucket> <aoi> <year>"
   ]
  },
  {
   "cell_type": "markdown",
   "metadata": {},
   "source": [
    "## 7) Prepare Landsat Tiles ##\n",
    "\n",
    "## Export Landsat NDVI ##\n",
    "\n",
    "### gee_export_landsat_ndvi.py ###\n",
    "\n",
    "### Usage ###\n",
    "\n",
    "```\n",
    "(data-prep) % gee_export_landsat_ndvi.py [-h] sitename tiles res year\n",
    "```\n",
    "\n",
    "### Description ###\n",
    "\n",
    "Submit GEE processing for Landsat NDVI. \n",
    "\n",
    "### Positional Arguments ###\n",
    "\n",
    "  **sitename**\n",
    "\n",
    "      sitename \n",
    "\n",
    "  **tiles**\n",
    "\n",
    "      shp/geojson file containing tiles onto which output raster will be resampled\n",
    "\n",
    "  **res**\n",
    "\n",
    "      Resolution\n",
    "      \n",
    "  **year**\n",
    "\n",
    "      Year"
   ]
  },
  {
   "cell_type": "code",
   "execution_count": null,
   "metadata": {},
   "outputs": [],
   "source": [
    "# sample run here"
   ]
  },
  {
   "cell_type": "markdown",
   "metadata": {},
   "source": [
    "## 8) Prepare MODIS Tree Cover Tiles ##\n",
    "\n",
    "## Export MODIS TC ##\n",
    "\n",
    "### gee_export_modis_tc.py ###\n",
    "\n",
    "### Usage ###\n",
    "\n",
    "```\n",
    "(data-prep) % gee_export_modis_tc.py [-h] sitename tiles res year\n",
    "```\n",
    "\n",
    "### Description ###\n",
    "\n",
    "Submit GEE processing for MODIS tree cover\n",
    "\n",
    "### Positional Arguments ###\n",
    "\n",
    "  **sitename**\n",
    "\n",
    "      sitename \n",
    "\n",
    "  **tiles**\n",
    "\n",
    "      shp/geojson file containing tiles onto which output raster will be resampled\n",
    "\n",
    "  **res**\n",
    "\n",
    "      Resolution\n",
    "      \n",
    "  **year**\n",
    "\n",
    "      Year. "
   ]
  },
  {
   "cell_type": "code",
   "execution_count": null,
   "metadata": {},
   "outputs": [],
   "source": [
    "# sample run here"
   ]
  },
  {
   "cell_type": "markdown",
   "metadata": {},
   "source": [
    "## 9) Build Stacks ##\n",
    "\n",
    "### build_stacks.py ###\n",
    "\n",
    "### Usage ###\n",
    "\n",
    "```\n",
    "(data-prep) % build_stacks.py [-h] [--sitename sitename] proj_dir tiles year\n",
    "```\n",
    "\n",
    "### Description ###\n",
    "\n",
    "Build 8 band stacks that include (C-VV / C-VH / C-INC / L-HH / L-HV / L-INC / NDVI / TC)\n",
    "   \n",
    "### Positional Arguments ###\n",
    "\n",
    "  **proj_dir**\n",
    "   \n",
    "      project directory (s3:// or gs:// or local dirs)\n",
    "  \n",
    "  **tiles**\n",
    "  \n",
    "      shp/geojson file that contains tiles for the output stacks\n",
    "      \n",
    "  **year** \n",
    "  \n",
    "      Year\n",
    "      \n",
    "###  Optional Arguements ###\n",
    "      \n",
    "  **sitename**\n",
    "  \n",
    "      sitename. If sitename not specified, proj_dir basename is used at sitename. \n",
    "  \n",
    "### Notes ###\n",
    "\n",
    "* ..."
   ]
  },
  {
   "cell_type": "code",
   "execution_count": null,
   "metadata": {},
   "outputs": [],
   "source": [
    "# sample run here"
   ]
  }
 ],
 "metadata": {
  "kernelspec": {
   "display_name": "Python 3 (ipykernel)",
   "language": "python",
   "name": "python3"
  },
  "language_info": {
   "codemirror_mode": {
    "name": "ipython",
    "version": 3
   },
   "file_extension": ".py",
   "mimetype": "text/x-python",
   "name": "python",
   "nbconvert_exporter": "python",
   "pygments_lexer": "ipython3",
   "version": "3.9.7"
  }
 },
 "nbformat": 4,
 "nbformat_minor": 4
}
