{
 "cells": [
  {
   "cell_type": "markdown",
   "metadata": {},
   "source": [
    "# Data Stack Preparation (data-prep)\n",
    "\n",
    "This tutorial will walk you through the workflow of the [VegMapper](https://github.com/NaiaraSPinto/VegMapper) repo. At the end of this tutorial, you will create multi-band geotiffs that can be used for the identification and classification of specific agroforestry systems, such as palm-oil plantations."
   ]
  },
  {
   "cell_type": "markdown",
   "metadata": {},
   "source": [
    "## 1) Get credentials ##\n",
    "This repo makes use of several third-party services which will require credentials. These can be obtained using the following links. Please note that approval of an account may take several days in some cases.\n",
    "\n",
    "1) [NASA Earthdata](https://urs.earthdata.nasa.gov/users/new)\n",
    "\n",
    "2) [JAXA](https://www.eorc.jaxa.jp/ALOS/en/palsar_fnf/registration.htm)\n",
    "\n",
    "3) [AWS S3/EC2](https://portal.aws.amazon.com/billing/signup#/start)\n",
    "\n",
    "4) [Google Earth Engine](https://earthengine.google.com/)"
   ]
  },
  {
   "cell_type": "markdown",
   "metadata": {},
   "source": [
    "One-time authentication for Google Earth Engine:"
   ]
  },
  {
   "cell_type": "code",
   "execution_count": 1,
   "metadata": {},
   "outputs": [
    {
     "data": {
      "text/html": [
       "<p>To authorize access needed by Earth Engine, open the following\n",
       "        URL in a web browser and follow the instructions:</p>\n",
       "        <p><a href=https://accounts.google.com/o/oauth2/auth?client_id=517222506229-vsmmajv00ul0bs7p89v5m89qs8eb9359.apps.googleusercontent.com&scope=https%3A%2F%2Fwww.googleapis.com%2Fauth%2Fearthengine+https%3A%2F%2Fwww.googleapis.com%2Fauth%2Fdevstorage.full_control&redirect_uri=urn%3Aietf%3Awg%3Aoauth%3A2.0%3Aoob&response_type=code&code_challenge=HzJFR3bSpLGBCiq99AX965BQyLUMw2qMz6-H1TYuAyk&code_challenge_method=S256>https://accounts.google.com/o/oauth2/auth?client_id=517222506229-vsmmajv00ul0bs7p89v5m89qs8eb9359.apps.googleusercontent.com&scope=https%3A%2F%2Fwww.googleapis.com%2Fauth%2Fearthengine+https%3A%2F%2Fwww.googleapis.com%2Fauth%2Fdevstorage.full_control&redirect_uri=urn%3Aietf%3Awg%3Aoauth%3A2.0%3Aoob&response_type=code&code_challenge=HzJFR3bSpLGBCiq99AX965BQyLUMw2qMz6-H1TYuAyk&code_challenge_method=S256</a></p>\n",
       "        <p>The authorization workflow will generate a code, which you\n",
       "        should paste in the box below</p>\n",
       "        "
      ],
      "text/plain": [
       "<IPython.core.display.HTML object>"
      ]
     },
     "metadata": {},
     "output_type": "display_data"
    },
    {
     "name": "stdout",
     "output_type": "stream",
     "text": [
      "Enter verification code: 4/1AX4XfWi7fefpAgGXvxZvY51WqXuJFWJM71HmtRnCDez3jzUt2Li-Os9pxu4\n",
      "\n",
      "Successfully saved authorization token.\n"
     ]
    }
   ],
   "source": [
    "import ee\n",
    "ee.Authenticate()"
   ]
  },
  {
   "cell_type": "markdown",
   "metadata": {},
   "source": [
    "## 2) Set up data-prep conda environment ##\n",
    "\n",
    "To create the **data-prep** environment and install required packages, run these commands in your terminal:\n",
    "\n",
    "```\n",
    "% cd data-prep\n",
    "% conda env create -f data-prep-env.yml\n",
    "% conda activate data-prep\n",
    "```"
   ]
  },
  {
   "cell_type": "markdown",
   "metadata": {},
   "source": [
    "Run **setup.py** to verify environment and permissions of scripts:"
   ]
  },
  {
   "cell_type": "code",
   "execution_count": 2,
   "metadata": {},
   "outputs": [
    {
     "name": "stdout",
     "output_type": "stream",
     "text": [
      "ALOS-2/alos2_download_mosaic.py\r\n",
      "ALOS-2/alos2_proc.py\r\n",
      "Landsat/gee_export_landsat_ndvi.py\r\n",
      "MODIS/gee_export_modis_tc.py\r\n",
      "Sentinel/s1_build_vrt.py\r\n",
      "Sentinel/s1_metadata_summary.py\r\n",
      "Sentinel/s1_proc.py\r\n",
      "Sentinel/s1_remove_edges.py\r\n",
      "Sentinel/s1_submit_hyp3_jobs.py\r\n",
      "Stacks/build_stacks.py\r\n",
      "Stacks/build_condensed_stacks.py\r\n",
      "Utils/calc_vrt_stats.py\r\n",
      "Utils/prep_tiles.py\r\n",
      "Utils/remove_edges.py\r\n"
     ]
    }
   ],
   "source": [
    "!python setup.py"
   ]
  },
  {
   "cell_type": "markdown",
   "metadata": {},
   "source": [
    "## 3) Prepare UTM tiles for Area of Interest (AOI) ##\n",
    "\n",
    "To create the stacks, a universal tiling system is required to ensure all data sources are aligned to the same grid. In the following section, we will generate a geoJSON file that contains the tiles to be used by all of the data processing scripts."
   ]
  },
  {
   "cell_type": "markdown",
   "metadata": {},
   "source": [
    "### prep_tiles.py ###\n",
    "\n",
    "prep.tiles.py will create the tile geoJSON. It takes three arguments: aoi_name, aoi_shp, and tile_size. aoi_name is used to name the output geojson. aoi_shp should point to a shapefile or geoJSON of the area of interest. geoJSON files for many subnational administrative boundaries can be found here: (insert link) tile_size is the desired size of each tile, in meters.\n",
    "\n",
    "### Usage ###\n",
    "\n",
    "```\n",
    "(data-prep) % prep_tiles.py [-h] aoi_name aoi_shp tile_size\n",
    "```"
   ]
  },
  {
   "cell_type": "markdown",
   "metadata": {},
   "source": [
    "Suppose our area of interest is the Ucayali region of Peru, highlighted in blue:\n",
    "\n",
    "![ucayali_region](img/ucayali_region.png)\n",
    "\n",
    "Create tiles for our AOI with a tile size of 150x150 km:"
   ]
  },
  {
   "cell_type": "code",
   "execution_count": 2,
   "metadata": {},
   "outputs": [
    {
     "name": "stdout",
     "output_type": "stream",
     "text": [
      "Tiles for Aoi/ucayali/ucayali: aoi/ucayali/ucayali_tiles.geojson\r\n",
      "14 out of 20 tiles intersecting Aoi/ucayali/ucayali\r\n"
     ]
    }
   ],
   "source": [
    "!python Utils/prep_tiles.py AOI/ucayali/ucayali AOI/ucayali/ucayali_boundary.geojson 150000"
   ]
  },
  {
   "cell_type": "markdown",
   "metadata": {},
   "source": [
    "Output tiles:\n",
    "\n",
    "![ucayali_tiles](img/ucayali_tiles.png)\n",
    "\n",
    "Note that some tiles do not intersect the region. These will be masked out and will not be used for the final stacks."
   ]
  },
  {
   "cell_type": "markdown",
   "metadata": {},
   "source": [
    "## 4) Prepare Sentinel-1 Tiles ##\n",
    "\n",
    "The first piece of the data stack is Sentinel-1 tiles. (include info about why we use S1?)"
   ]
  },
  {
   "cell_type": "markdown",
   "metadata": {},
   "source": [
    "## Search for Sentinel-1 granules on [ASF Vertex](https://search.asf.alaska.edu/#/) ##\n",
    "\n",
    "1. Sign in using your Earthdata credentials. If you haven't used ASF Vertex before, you will need to agree their terms in order to use their HyP3 processing.\n",
    "\n",
    "2. Use the following \"Additional Filters\" when searching for granules within your AOI:\n",
    "\n",
    "    * File Type: L1 Detected High-Res Dual-Pol (GRD-HD)\n",
    "    * Beam Mode: IW\n",
    "    * Polarization: VV+VH\n",
    "\n",
    "    ![vertex_search_filters](img/vertex_search_filters.png)\n",
    "\n",
    "3. Add the selected granules into the download queue:\n",
    "\n",
    "    ![vertex_add_queue](img/vertex_add_queue.png)\n",
    "\n",
    "4. Download metadata files. Download at least one csv or geojson file, which will be used for submitting HyP3 jobs.\n",
    "\n",
    "    ![vertex_download_metadata](img/vertex_download_metadata.png)\n",
    "\n",
    "5. Clear the selected granules in the downloads. Do not download these GRD-HD products as we will submit HyP3 jobs to apply radiometric terrain correction (RTC) to them."
   ]
  },
  {
   "cell_type": "markdown",
   "metadata": {},
   "source": [
    "## Submit HyP3 RTC jobs ##\n",
    "\n",
    "For the initial processing of the Sentinel-1 granules, we make use of ASF's HyP3 API. Information about the specifics of this processing can be found [here](https://hyp3-docs.asf.alaska.edu/).\n",
    "\n",
    "### s1_submit_hyp3_jobs.py ###\n",
    "\n",
    "### Usage ###\n",
    "\n",
    "```\n",
    "(data-prep) % s1_submit_hyp3_jobs.py [-h] [--dst dstpath] csv/geojson\n",
    "```\n",
    "\n",
    "### Description ###\n",
    "    \n",
    "Submit ASF HyP3 RTC processing jobs for Sentinel-1 granules.\n",
    "\n",
    "Optionally copy or download the processed granules to the following destinations:\n",
    "\n",
    "* AWS S3 bucket - s3://bucket/prefix\n",
    "\n",
    "* Google Cloud Storage (GCS) - gs://bucket/prefix\n",
    "\n",
    "* Local storage\n",
    "\n",
    "### Positional Arguments ###\n",
    "\n",
    "  **csv/geojson**\n",
    "  \n",
    "      Metadata file (csv or geojson) downloaded from ASF Vertex after data search.\n",
    "  \n",
    "### Optional Arguments ###\n",
    "\n",
    "  **--dst dstpath**\n",
    "  \n",
    "      Destination path to store the processed granules.\n",
    "      Supported dstpaths: AWS S3 - s3://your_bucket/some_prefix\n",
    "                       GCS - gs://your_bucket/some_prefix\n",
    "                       Local storage - your_local_path\n",
    "      If dstpath not provided, AWS S3 buckets/keys for the processed granules will be displayed at the end.\n",
    "      The processed granules will be saved in the following directory structure:\n",
    "          dstpath\n",
    "           └──year\n",
    "               └──path_frame\n",
    "                   └──processed_granules\n",
    "\n",
    "### Notes ###\n",
    "\n",
    "* Since ASF HyP3 stores the processed granules in their AWS S3 buckets, the data transfer will be much faster if you set up your S3 bucket to host these data. That is, using **s3://your_bucket/some_prefix** for --dst option.\n",
    "\n",
    "* To set up AWS Command Line Interface (CLI) configurations and credentials (required if your dstpath is S3 or GCS):\n",
    "\n",
    "    ```\n",
    "    (data-prep) % aws configure\n",
    "    ```\n",
    "\n",
    "    where you will be asked to enter your **aws_access_key_id** and **aws_secret_access_key**.\n",
    "\n",
    "* To set up Google Cloud gsutil tool (required if your dstpath is GCS):\n",
    "\n",
    "    ```\n",
    "    (data-prep) % gsutil config\n",
    "    ```\n",
    "\n",
    "    Then you will be prompted to sign in using your Google credentials. \n",
    "\n",
    "### Examples ###\n",
    "\n",
    "* Run without --dst option\n",
    "\n",
    "```\n",
    "(data-prep) % s1_submit_hyp3_jobs.py 2017_94_215.geojson\n",
    "Destination path for processed granules not provided. The download links will be listed at the end.\n",
    "\n",
    "Enter Earthdata Username: xxxxxx\n",
    "Enter Earthdata Password: \n",
    "\n",
    "Your remaining quota for HyP3 jobs: 977 granules.\n",
    "\n",
    "You will be submitting the following granules for HyP3 RTC processing:\n",
    "    2017_94_215 - 23 granules\n",
    "\n",
    "Enter 'Y' to confirm you would like to submit these granules, or 'N' if you have already submitted the granules and want to copy the processed granules to your dstpath: N\n",
    "\n",
    "Your processed granules for year_path_frame 2017_94_215 are available here:\n",
    "\n",
    "hyp3-contentbucket-abcdefghijkl/12345abc-wxyz-1234-5678-opqrstuvwxyz/S1B_IW_20170111T032030_DVP_RTC30_G_gpunem_C229.zip\n",
    "Expiration Time: 2021-09-18 00:00:00+00:00\n",
    "\n",
    "...\n",
    "...\n",
    "\n",
    "Done with everything.\n",
    "```\n",
    "\n",
    "* Run with --dst option pointed to a S3 bucket\n",
    "\n",
    "```\n",
    "(data-prep) % s1_submit_hyp3_jobs.py 2017_94_215.geojson --dst s3://servir-public/test\n",
    "\n",
    "Enter Earthdata Username: xxxxxx\n",
    "Enter Earthdata Password: \n",
    "\n",
    "Your remaining quota for HyP3 jobs: 977 granules.\n",
    "\n",
    "You will be submitting the following granules for HyP3 RTC processing:\n",
    "    2017_94_215 - 23 granules\n",
    "\n",
    "Enter 'Y' to confirm you would like to submit these granules, or 'N' if you have already submitted the granules and want to copy the processed granules to your dstpath: N\n",
    "\n",
    "2017_94_215: copying processed granules to s3://servir-public/test\n",
    "2017_94_215: DONE copying processed granules to s3://servir-public/test\n",
    "\n",
    "Done with everything.\n",
    "```\n"
   ]
  },
  {
   "cell_type": "code",
   "execution_count": null,
   "metadata": {},
   "outputs": [],
   "source": [
    "!python Sentinel/s1_submit_hyp3_jobs.py . Sentinel/granules/ucayali/ucayali_sentinel_granules_2017.geojson"
   ]
  },
  {
   "cell_type": "markdown",
   "metadata": {},
   "source": [
    "## Sentinel-1 Processing ##\n",
    "\n",
    "### s1_proc.py ###\n",
    "\n",
    "### Usage ###\n",
    "\n",
    "```\n",
    "(data-prep) % s1_proc.py [-h] [--pf path_frame] [--m1 m1] [--m2 m2] srcpath year\n",
    "```\n",
    "\n",
    "### Description ###\n",
    "    \n",
    "Processing Sentinel-1 RTC data, which includes two steps:\n",
    "\n",
    "1. Calculating temporal mean for the Sentinel-1 granules acquired between the months \\[m1, m2\\]. This is done by **s1_build_vrt.py** and **calc_vrt_stats.py**.\n",
    "\n",
    "2. Removing left/right (cross-track) edge pixels where the border noise is prominent. This is done by **remove_edges.py**.\n",
    "\n",
    "### Positional Arguments ###\n",
    "\n",
    "  **srcpath**\n",
    "  \n",
    "      Source path to where processed granules are stored.\n",
    "      Supported dstpaths: AWS S3 - s3://your_bucket/some_prefix\n",
    "                          GCS - gs://your_bucket/some_prefix\n",
    "                          Local storage - your_local_path\n",
    "  \n",
    "  **year**\n",
    "      \n",
    "      Year of granules to be processed.\n",
    "\n",
    "  \n",
    "### Optional Arguments ###\n",
    "\n",
    "  **--pf path_frame**\n",
    "  \n",
    "      'path_frame' of granules to be processed.\n",
    "      If path_frame not provided, all path_frame's under srcpath/year will be processed.\n",
    "  \n",
    "  **--m1 m1**\n",
    "  \n",
    "      Granules with acquisition month >= m1 will be processed\n",
    "  \n",
    "  **--m2 m2**\n",
    "  \n",
    "      Granules with acquisition month <= m2 will be processed\n",
    "\n",
    "### Notes ###\n",
    "\n",
    "* The processing will be slow if srcpath is on AWS S3 or GCS because it requires heavy network I/O between the cloud and your local machine. If srcpath is on AWS S3, it is strongly recommended that you run the processing on AWS EC2."
   ]
  },
  {
   "cell_type": "code",
   "execution_count": null,
   "metadata": {},
   "outputs": [],
   "source": [
    "# sample run here\n",
    "# print out vrts that are generated?"
   ]
  },
  {
   "cell_type": "markdown",
   "metadata": {},
   "source": [
    "## 5) Prepare ALOS-2 tiles ##\n",
    "\n",
    "## Download ALOS/ALOS-2 Mosaic ##\n",
    "\n",
    "### alos2_download_mosaic.py ###\n",
    "\n",
    "### Usage ###\n",
    "\n",
    "```\n",
    "(data-prep) % alos2_download_mosaic.py [-h] aoi year dst\n",
    "```\n",
    "\n",
    "### Description ###\n",
    "\n",
    "Download ALOS/ALOS-2 Mosaic data from JAXA website.\n",
    "\n",
    "### Positional Arguments ###\n",
    "\n",
    "  **aoi**\n",
    "\n",
    "      shp/geojson of area of interest (AOI)\n",
    "\n",
    "  **year**\n",
    "\n",
    "      Year\n",
    "\n",
    "  **dst**\n",
    "\n",
    "      Destination location (s3:// or gs:// or local paths). Downloaded data will be stored under dst/year/tarfiles/\n",
    "\n",
    "### Notes ###\n",
    "\n",
    "* Downloading ALOS/ALOS-2 Mosaic data requires a JAXA account, which can be registered from: https://www.eorc.jaxa.jp/ALOS/en/palsar_fnf/registration.htm."
   ]
  },
  {
   "cell_type": "code",
   "execution_count": null,
   "metadata": {},
   "outputs": [],
   "source": [
    "# sample run here"
   ]
  },
  {
   "cell_type": "markdown",
   "metadata": {},
   "source": [
    "## ALOS-2 Processing ##\n",
    "\n",
    "### alos2_proc.py ###\n",
    "\n",
    "### Usage ###\n",
    "\n",
    "```\n",
    "(data-prep) % alos2_proc.py [-h] proj_dir aoi year\n",
    "```\n",
    "\n",
    "### Description ###\n",
    "\n",
    "Process ALOS-2 tiles by appyling an Enhanced Lee Filter (why? is that all it does?)\n",
    "\n",
    "### Positional Arguments ###\n",
    "\n",
    "  **proj_dir**\n",
    "\n",
    "      project directory (s3:// or gs:// or local dir). ALOS/ALOS-2 mosaic data (.tar.gz) will be stored under\n",
    "      proj_dir/alos2_mosaic/year/tarfiles/\n",
    "\n",
    "  **aoi**\n",
    "\n",
    "      shp/geojson of area of interest (AOI)\n",
    "\n",
    "  **year**\n",
    "\n",
    "      year\n",
    "\n",
    "### Notes ###\n",
    "\n",
    "* ..."
   ]
  },
  {
   "cell_type": "code",
   "execution_count": null,
   "metadata": {},
   "outputs": [],
   "source": [
    "# sample run here"
   ]
  },
  {
   "cell_type": "markdown",
   "metadata": {},
   "source": [
    "## 6) Prepare Landsat Tiles ##\n",
    "\n",
    "## Export Landsat NDVI ##\n",
    "\n",
    "### gee_export_landsat_ndvi.py ###\n",
    "\n",
    "### Usage ###\n",
    "\n",
    "```\n",
    "(data-prep) % gee_export_landsat_ndvi.py [-h] sitename tiles res year\n",
    "```\n",
    "\n",
    "### Description ###\n",
    "\n",
    "Submit GEE processing for Landsat NDVI. \n",
    "\n",
    "### Positional Arguments ###\n",
    "\n",
    "  **sitename**\n",
    "\n",
    "      sitename \n",
    "\n",
    "  **tiles**\n",
    "\n",
    "      shp/geojson file containing tiles onto which output raster will be resampled\n",
    "\n",
    "  **res**\n",
    "\n",
    "      Resolution\n",
    "      \n",
    "  **year**\n",
    "\n",
    "      Year"
   ]
  },
  {
   "cell_type": "code",
   "execution_count": null,
   "metadata": {},
   "outputs": [],
   "source": [
    "# sample run here"
   ]
  },
  {
   "cell_type": "markdown",
   "metadata": {},
   "source": [
    "## 7) Prepare MODIS Tree Cover Tiles ##\n",
    "\n",
    "## Export MODIS TC ##\n",
    "\n",
    "### gee_export_modis_tc.py ###\n",
    "\n",
    "### Usage ###\n",
    "\n",
    "```\n",
    "(data-prep) % gee_export_modis_tc.py [-h] sitename tiles res year\n",
    "```\n",
    "\n",
    "### Description ###\n",
    "\n",
    "Submit GEE processing for MODIS tree cover\n",
    "\n",
    "### Positional Arguments ###\n",
    "\n",
    "  **sitename**\n",
    "\n",
    "      sitename \n",
    "\n",
    "  **tiles**\n",
    "\n",
    "      shp/geojson file containing tiles onto which output raster will be resampled\n",
    "\n",
    "  **res**\n",
    "\n",
    "      Resolution\n",
    "      \n",
    "  **year**\n",
    "\n",
    "      Year. "
   ]
  },
  {
   "cell_type": "code",
   "execution_count": null,
   "metadata": {},
   "outputs": [],
   "source": [
    "# sample run here"
   ]
  },
  {
   "cell_type": "markdown",
   "metadata": {},
   "source": [
    "## 8) Build Stacks ##\n",
    "\n",
    "### build_stacks.py ###\n",
    "\n",
    "### Usage ###\n",
    "\n",
    "```\n",
    "(data-prep) % build_stacks.py [-h] [--sitename sitename] proj_dir tiles year\n",
    "```\n",
    "\n",
    "### Description ###\n",
    "\n",
    "Build 8 band stacks that include (C-VV / C-VH / C-INC / L-HH / L-HV / L-INC / NDVI / TC)\n",
    "   \n",
    "### Positional Arguments ###\n",
    "\n",
    "  **proj_dir**\n",
    "   \n",
    "      project directory (s3:// or gs:// or local dirs)\n",
    "  \n",
    "  **tiles**\n",
    "  \n",
    "      shp/geojson file that contains tiles for the output stacks\n",
    "      \n",
    "  **year** \n",
    "  \n",
    "      Year\n",
    "      \n",
    "###  Optional Arguements ###\n",
    "      \n",
    "  **sitename**\n",
    "  \n",
    "      sitename. If sitename not specified, proj_dir basename is used at sitename. \n",
    "  \n",
    "### Notes ###\n",
    "\n",
    "* ..."
   ]
  },
  {
   "cell_type": "code",
   "execution_count": null,
   "metadata": {},
   "outputs": [],
   "source": [
    "# sample run here"
   ]
  }
 ],
 "metadata": {
  "kernelspec": {
   "display_name": "Python 3 (ipykernel)",
   "language": "python",
   "name": "python3"
  },
  "language_info": {
   "codemirror_mode": {
    "name": "ipython",
    "version": 3
   },
   "file_extension": ".py",
   "mimetype": "text/x-python",
   "name": "python",
   "nbconvert_exporter": "python",
   "pygments_lexer": "ipython3",
   "version": "3.9.7"
  }
 },
 "nbformat": 4,
 "nbformat_minor": 4
}
