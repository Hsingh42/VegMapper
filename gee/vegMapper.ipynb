{
 "cells": [
  {
   "cell_type": "markdown",
   "metadata": {
    "colab": {
     "base_uri": "https://localhost:8080/",
     "height": 1000
    },
    "id": "UkrTGFMfLmPD",
    "outputId": "b6fad75b-6997-4a7b-83a3-8c8f7c6138ce"
   },
   "source": [
    "# vegMapper\n",
    "\n",
    "## Getting Started\n",
    "\n",
    "### Requirements\n",
    "\n",
    "```shell\n",
    "conda install -y -c conda-forge earthengine-api\n",
    "pip install -y geemap pandas requests\n",
    "```"
   ]
  },
  {
   "cell_type": "code",
   "execution_count": 1,
   "metadata": {},
   "outputs": [],
   "source": [
    "import ee\n",
    "import geemap\n",
    "import math\n",
    "import random\n",
    "import requests\n",
    "import pandas as pd\n",
    "from json import dumps\n",
    "from io import BytesIO\n",
    "from os.path import isfile\n",
    "#from google.colab import files  # Save Google Colab to Google Drive "
   ]
  },
  {
   "cell_type": "markdown",
   "metadata": {},
   "source": [
    "### GEE\n",
    "\n",
    "The next cell imports \n",
    "\n",
    "You might get prompted to leave the page -- don't. If your browser wants to navigate away from the Jupyter notebook environment, reject and open a new tab by right-clicking the link shown after running the cell."
   ]
  },
  {
   "cell_type": "code",
   "execution_count": 2,
   "metadata": {
    "colab": {
     "base_uri": "https://localhost:8080/"
    },
    "id": "941uARSFmaYN",
    "outputId": "8fbd64e0-fe36-47c8-d895-2a5a49586867"
   },
   "outputs": [
    {
     "data": {
      "text/html": [
       "<p>To authorize access needed by Earth Engine, open the following\n",
       "        URL in a web browser and follow the instructions:</p>\n",
       "        <p><a href=https://accounts.google.com/o/oauth2/auth?client_id=517222506229-vsmmajv00ul0bs7p89v5m89qs8eb9359.apps.googleusercontent.com&scope=https%3A%2F%2Fwww.googleapis.com%2Fauth%2Fearthengine+https%3A%2F%2Fwww.googleapis.com%2Fauth%2Fdevstorage.full_control&redirect_uri=urn%3Aietf%3Awg%3Aoauth%3A2.0%3Aoob&response_type=code&code_challenge=Bxt6PGge4gsw0mG3tjvGREZ29OSvl0Eks2oQsWKdb3g&code_challenge_method=S256>https://accounts.google.com/o/oauth2/auth?client_id=517222506229-vsmmajv00ul0bs7p89v5m89qs8eb9359.apps.googleusercontent.com&scope=https%3A%2F%2Fwww.googleapis.com%2Fauth%2Fearthengine+https%3A%2F%2Fwww.googleapis.com%2Fauth%2Fdevstorage.full_control&redirect_uri=urn%3Aietf%3Awg%3Aoauth%3A2.0%3Aoob&response_type=code&code_challenge=Bxt6PGge4gsw0mG3tjvGREZ29OSvl0Eks2oQsWKdb3g&code_challenge_method=S256</a></p>\n",
       "        <p>The authorization workflow will generate a code, which you\n",
       "        should paste in the box below</p>\n",
       "        "
      ],
      "text/plain": [
       "<IPython.core.display.HTML object>"
      ]
     },
     "metadata": {},
     "output_type": "display_data"
    },
    {
     "name": "stdout",
     "output_type": "stream",
     "text": [
      "Enter verification code: 4/1AY0e-g6QtNWDpVUVH9d7iIH43OBhUXU5oP88yeX_xWB2MfjCZudSHrU5Urg\n",
      "\n",
      "Successfully saved authorization token.\n"
     ]
    }
   ],
   "source": [
    "ee.Authenticate()\n",
    "ee.Initialize()"
   ]
  },
  {
   "cell_type": "markdown",
   "metadata": {},
   "source": [
    "### Housekeeping"
   ]
  },
  {
   "cell_type": "code",
   "execution_count": 3,
   "metadata": {},
   "outputs": [],
   "source": [
    "!mkdir -p outputs\n",
    "!mkdir -p tests\n",
    "#!rm tests/pts.csv"
   ]
  },
  {
   "cell_type": "markdown",
   "metadata": {
    "id": "hWpk3pxH5qCZ"
   },
   "source": [
    "## Inputs\n",
    "\n",
    "Required inputs:\n",
    "\n",
    "* the `startDate` and `endDate` of the period of interest (YYYY-MM-DD)\n",
    "* an input csv with at least two columns `lat, lon, ...`\n",
    "\n",
    "**Give the path to your input CSV (optional).** A series of random land coordinates will be used if `CSV` is set to *None* (read from *tests/* or retrieved from the [geonames API](https://api.3geonames.org/) and written to *tests/*)."
   ]
  },
  {
   "cell_type": "code",
   "execution_count": 4,
   "metadata": {},
   "outputs": [],
   "source": [
    "START = '2017-01-01'\n",
    "STOP  = '2017-12-31'\n",
    "CSV   = None"
   ]
  },
  {
   "cell_type": "markdown",
   "metadata": {},
   "source": [
    "**This cell defines a function to request a random land coordinate from the API.**\n",
    "\n",
    "Call it with no arguments as a test (if you want to)"
   ]
  },
  {
   "cell_type": "code",
   "execution_count": 5,
   "metadata": {
    "cellView": "form",
    "colab": {
     "base_uri": "https://localhost:8080/",
     "height": 430
    },
    "id": "qXv1Xsj1nNCm",
    "outputId": "7e6395fb-a7bf-4c7b-ad2b-6536ff0bb963",
    "scrolled": false
   },
   "outputs": [
    {
     "name": "stdout",
     "output_type": "stream",
     "text": [
      "ERROR: Bad API response. Retry (1)\n",
      "ERROR: Bad API response. Retry (2)\n",
      "{\n",
      "  \"inlatt\": \"44.20444\",\n",
      "  \"distance\": \"0.000\",\n",
      "  \"timezone\": \"America/New_York\",\n",
      "  \"elevation\": \"139\",\n",
      "  \"region\": \"Jefferson County\",\n",
      "  \"name\": \"Home Again Farm\",\n",
      "  \"state\": \"US\",\n",
      "  \"latt\": \"44.20444\",\n",
      "  \"longt\": \"-75.76694\",\n",
      "  \"city\": \"Theresa\",\n",
      "  \"prov\": \"New York\",\n",
      "  \"inlongt\": \"-75.76694\",\n",
      "  \"altgeocode\": \"HOMEAGAIN-IYURV\"\n",
      "}\n"
     ]
    }
   ],
   "source": [
    "def rand_coord(url: str=\"https://api.3geonames.org/nearest.json?\", code: str=\"US\", retry: int=5):\n",
    "    for i in range(1, retry+1):\n",
    "        try:\n",
    "            return requests.get(url, {'randomland': code}).json()['nearest']\n",
    "        except Exception as e:\n",
    "            print(f\"\\rERROR: Bad API response. Retry ({i})\")\n",
    "    raise Exception\n",
    "    \n",
    "def rand_sample(lon: float, lat: float, rad: float=0.1):\n",
    "    alpha = 2 * math.pi * random.random()\n",
    "    r = rad * math.sqrt(random.random())\n",
    "    x = r * math.cos(alpha) + lon\n",
    "    y = r * math.sin(alpha) + lat\n",
    "    return x, y\n",
    "\n",
    "\n",
    "test_coord = rand_coord()\n",
    "\n",
    "print(dumps(test_coord, indent=2))"
   ]
  },
  {
   "cell_type": "markdown",
   "metadata": {},
   "source": [
    "And we can call *rand_sample* five times to get a sample of coordinates in close proximity to each other, if no CSV is provided above to variable `CSV`."
   ]
  },
  {
   "cell_type": "code",
   "execution_count": 6,
   "metadata": {},
   "outputs": [
    {
     "data": {
      "text/plain": [
       "(-75.76587182839224, 44.2972890808557)"
      ]
     },
     "execution_count": 6,
     "metadata": {},
     "output_type": "execute_result"
    }
   ],
   "source": [
    "lon = float(test_coord['longt'])\n",
    "lat = float(test_coord['latt'])\n",
    "\n",
    "rand_sample(lon, lat)"
   ]
  },
  {
   "cell_type": "markdown",
   "metadata": {},
   "source": [
    "This cell either reads the input CSV, generates it's own input data using the functions, or reads and CSV of points save previously by the ipynb."
   ]
  },
  {
   "cell_type": "code",
   "execution_count": 7,
   "metadata": {},
   "outputs": [
    {
     "data": {
      "text/html": [
       "<div>\n",
       "<style scoped>\n",
       "    .dataframe tbody tr th:only-of-type {\n",
       "        vertical-align: middle;\n",
       "    }\n",
       "\n",
       "    .dataframe tbody tr th {\n",
       "        vertical-align: top;\n",
       "    }\n",
       "\n",
       "    .dataframe thead th {\n",
       "        text-align: right;\n",
       "    }\n",
       "</style>\n",
       "<table border=\"1\" class=\"dataframe\">\n",
       "  <thead>\n",
       "    <tr style=\"text-align: right;\">\n",
       "      <th></th>\n",
       "      <th>lon</th>\n",
       "      <th>lat</th>\n",
       "    </tr>\n",
       "  </thead>\n",
       "  <tbody>\n",
       "    <tr>\n",
       "      <th>count</th>\n",
       "      <td>5.000000</td>\n",
       "      <td>5.000000</td>\n",
       "    </tr>\n",
       "    <tr>\n",
       "      <th>mean</th>\n",
       "      <td>-75.726158</td>\n",
       "      <td>44.198908</td>\n",
       "    </tr>\n",
       "    <tr>\n",
       "      <th>std</th>\n",
       "      <td>0.034030</td>\n",
       "      <td>0.068755</td>\n",
       "    </tr>\n",
       "    <tr>\n",
       "      <th>min</th>\n",
       "      <td>-75.760857</td>\n",
       "      <td>44.113054</td>\n",
       "    </tr>\n",
       "    <tr>\n",
       "      <th>25%</th>\n",
       "      <td>-75.743752</td>\n",
       "      <td>44.161049</td>\n",
       "    </tr>\n",
       "    <tr>\n",
       "      <th>50%</th>\n",
       "      <td>-75.738505</td>\n",
       "      <td>44.182940</td>\n",
       "    </tr>\n",
       "    <tr>\n",
       "      <th>75%</th>\n",
       "      <td>-75.714779</td>\n",
       "      <td>44.261867</td>\n",
       "    </tr>\n",
       "    <tr>\n",
       "      <th>max</th>\n",
       "      <td>-75.672897</td>\n",
       "      <td>44.275630</td>\n",
       "    </tr>\n",
       "  </tbody>\n",
       "</table>\n",
       "</div>"
      ],
      "text/plain": [
       "             lon        lat\n",
       "count   5.000000   5.000000\n",
       "mean  -75.726158  44.198908\n",
       "std     0.034030   0.068755\n",
       "min   -75.760857  44.113054\n",
       "25%   -75.743752  44.161049\n",
       "50%   -75.738505  44.182940\n",
       "75%   -75.714779  44.261867\n",
       "max   -75.672897  44.275630"
      ]
     },
     "execution_count": 7,
     "metadata": {},
     "output_type": "execute_result"
    }
   ],
   "source": [
    "if CSV:\n",
    "    pts = pd.read_csv(CSV)\n",
    "elif isfile(\"tests/pts.csv\"):\n",
    "    pts = pd.read_csv(\"tests/pts.csv\")\n",
    "else:\n",
    "    pts = pd.DataFrame([dict(zip(['lon','lat'], rand_sample(lon,lat))) for _ in range(5)])\n",
    "    pts.to_csv(\"tests/pts.csv\", index=False)\n",
    "\n",
    "pts.describe()"
   ]
  },
  {
   "cell_type": "markdown",
   "metadata": {},
   "source": [
    "## Workflow\n",
    "\n",
    "### Region of interest (roi)\n",
    "\n",
    "Get the minimum bounding extent of the points in the input CSV. Add an arbitrary buffer around the minimum extent and then get a ee.Geometry.Rectangle to represent the ROI."
   ]
  },
  {
   "cell_type": "code",
   "execution_count": 8,
   "metadata": {},
   "outputs": [
    {
     "data": {
      "text/plain": [
       "ee.geometry.Geometry"
      ]
     },
     "execution_count": 8,
     "metadata": {},
     "output_type": "execute_result"
    }
   ],
   "source": [
    "buf = 0.1\n",
    "\n",
    "roi = ee.Geometry.Rectangle([pts['lon'].min() - buf, \n",
    "                             pts['lat'].min() - buf, \n",
    "                             pts['lon'].max() + buf, \n",
    "                             pts['lat'].max() + buf])\n",
    "\n",
    "type(roi)"
   ]
  },
  {
   "cell_type": "markdown",
   "metadata": {
    "id": "BYr0uBn42bKo"
   },
   "source": [
    ">Hover/click the wrench icon at the top right to manipulate the *geemap* widget. It has tons of cool features, e.g. import vector and raster datasets from your local file system and/or GEE.\n",
    "\n",
    "Plot the point geometries together with the ROI polygon."
   ]
  },
  {
   "cell_type": "code",
   "execution_count": 9,
   "metadata": {
    "colab": {
     "base_uri": "https://localhost:8080/",
     "height": 752
    },
    "id": "nv6F4Q1JipMg",
    "outputId": "4b0b807b-3526-491b-a255-d41dbc9d073b"
   },
   "outputs": [
    {
     "data": {
      "application/vnd.jupyter.widget-view+json": {
       "model_id": "afaf2aa3a6f848d69f05c9b3f3c3c658",
       "version_major": 2,
       "version_minor": 0
      },
      "text/plain": [
       "Map(center=[44.1989079375035, -75.72615815937681], controls=(WidgetControl(options=['position', 'transparent_b…"
      ]
     },
     "metadata": {},
     "output_type": "display_data"
    }
   ],
   "source": [
    "def get_geom(x):\n",
    "    return ee.Geometry.Point(x['lon'], x['lat'])\n",
    "\n",
    "M = geemap.Map(center=[pts['lat'].mean(), pts['lon'].mean()], zoom=11)\n",
    "M.addLayer(roi, {'color': 'd63000'}, 'Input ROI')\n",
    "M.addLayer(ee.FeatureCollection(pts.apply(get_geom, axis=1).tolist()), name='Input XY')\n",
    "M.add_layer_control()\n",
    "display(M)"
   ]
  },
  {
   "cell_type": "markdown",
   "metadata": {
    "id": "HIbwNoD5pBrE"
   },
   "source": [
    "## Build the stack!"
   ]
  },
  {
   "cell_type": "code",
   "execution_count": 13,
   "metadata": {
    "id": "HXCzflGxGmSy"
   },
   "outputs": [],
   "source": [
    "the_stack = {}"
   ]
  },
  {
   "cell_type": "markdown",
   "metadata": {
    "id": "qYGEuIqdGmfU"
   },
   "source": [
    "### Sentinel-1\n",
    "\n",
    "Nice documentation on Sentinel-1 datasets: https://developers.google.com/earth-engine/guides/sentinel1"
   ]
  },
  {
   "cell_type": "code",
   "execution_count": 14,
   "metadata": {
    "colab": {
     "base_uri": "https://localhost:8080/"
    },
    "id": "WEcrKXvJmlgv",
    "outputId": "7456bdca-95e1-4e3f-ad82-c95c0403be65"
   },
   "outputs": [
    {
     "name": "stdout",
     "output_type": "stream",
     "text": [
      "['VV', 'VH', 'angle']\n"
     ]
    }
   ],
   "source": [
    "s1 = (ee.ImageCollection(\"COPERNICUS/S1_GRD_FLOAT\")\n",
    "      .filterDate(START, STOP)\n",
    "      .filterBounds(roi)\n",
    "      .filter(ee.Filter.eq(\"instrumentMode\", \"IW\"))\n",
    "      .filter(ee.Filter.eq(\"orbitProperties_pass\", \"DESCENDING\"))\n",
    "      .mean()).clip(roi)\n",
    "\n",
    "s1_bands = s1.bandNames().getInfo()\n",
    "print(s1_bands)"
   ]
  },
  {
   "cell_type": "markdown",
   "metadata": {
    "id": "7GIF82AupYFg"
   },
   "source": [
    "Calculate radar volume index: `4 * VH / (VH + VV)`\n"
   ]
  },
  {
   "cell_type": "code",
   "execution_count": 15,
   "metadata": {
    "colab": {
     "base_uri": "https://localhost:8080/"
    },
    "id": "Xb-_GQUfnCdJ",
    "outputId": "d3cb9dd0-4a49-4bcc-cfcf-131b82a7bec9"
   },
   "outputs": [
    {
     "name": "stdout",
     "output_type": "stream",
     "text": [
      "The stack has 1 layers(s).\n"
     ]
    }
   ],
   "source": [
    "s1_radar_volume_index = s1.expression(\n",
    "    expression=\"4 * VH / (VH + VV)\", \n",
    "    opt_map={'VV': s1.select('VV'), \n",
    "             'VH': s1.select('VH')}\n",
    ").rename('radar_volume_index')\n",
    "\n",
    "the_stack['s1'] = s1.addBands(s1_radar_volume_index)\n",
    "print(\"The stack has\", len(the_stack), \"layers(s).\")"
   ]
  },
  {
   "cell_type": "markdown",
   "metadata": {
    "id": "XlcNbkU7ptm8"
   },
   "source": [
    "### ALOS2\n",
    "\n",
    "https://developers.google.com/earth-engine/datasets/catalog/JAXA_ALOS_PALSAR_YEARLY_SAR"
   ]
  },
  {
   "cell_type": "code",
   "execution_count": 16,
   "metadata": {
    "colab": {
     "base_uri": "https://localhost:8080/"
    },
    "id": "HK7Ydwtmpjj9",
    "outputId": "4ed5bce1-0134-4366-9894-c328900d8089"
   },
   "outputs": [
    {
     "name": "stdout",
     "output_type": "stream",
     "text": [
      "['HV', 'HH']\n"
     ]
    }
   ],
   "source": [
    "alos2 = (ee.ImageCollection('JAXA/ALOS/PALSAR/YEARLY/SAR')\n",
    "         .select(ee.List(['HV', 'HH']))\n",
    "         .filterDate(START, STOP)\n",
    "         .filterBounds(roi)\n",
    "         .mean()).clip(roi)\n",
    "\n",
    "alos2_bands = alos2.bandNames().getInfo()\n",
    "print(alos2_bands)"
   ]
  },
  {
   "cell_type": "markdown",
   "metadata": {
    "id": "3-EYiVYcp0Rq"
   },
   "source": [
    "Calculate radar volume index: `4 * HV / (HV + HH)`"
   ]
  },
  {
   "cell_type": "code",
   "execution_count": 17,
   "metadata": {
    "colab": {
     "base_uri": "https://localhost:8080/"
    },
    "id": "iqXzxv0fpvKc",
    "outputId": "5b2b0c91-3104-402b-9f4c-ef8c490e0353"
   },
   "outputs": [
    {
     "name": "stdout",
     "output_type": "stream",
     "text": [
      "The stack has 2 layers(s).\n"
     ]
    }
   ],
   "source": [
    "alos2_radar_volume_index = alos2.expression(\n",
    "    expression=\"4 * HV / (HV + HH)\", \n",
    "    opt_map={'HV': alos2.select('HV'),\n",
    "             'HH': alos2.select('HH')}\n",
    ").rename('radar_volume_index')\n",
    "\n",
    "the_stack['alos2'] = alos2.addBands(alos2_radar_volume_index)\n",
    "print(\"The stack has\", len(the_stack), \"layers(s).\")"
   ]
  },
  {
   "cell_type": "markdown",
   "metadata": {
    "id": "DtmA7VUQp8bA"
   },
   "source": [
    "### VCF from MODIS"
   ]
  },
  {
   "cell_type": "code",
   "execution_count": 18,
   "metadata": {
    "colab": {
     "base_uri": "https://localhost:8080/"
    },
    "id": "FSZV2i1jp5Kt",
    "outputId": "c9209498-16dc-4ecb-b4c8-cd2c2d2fba4f"
   },
   "outputs": [
    {
     "name": "stdout",
     "output_type": "stream",
     "text": [
      "The stack has 3 layer(s).\n"
     ]
    }
   ],
   "source": [
    "modisTreeCover = (ee.ImageCollection('MODIS/006/MOD44B')\n",
    "                  .select('Percent_Tree_Cover')\n",
    "                  .filterDate(START, STOP)\n",
    "                  .filterBounds(roi)\n",
    "                  .first()).clip(roi)\n",
    "\n",
    "the_stack['modis'] = modisTreeCover\n",
    "print(\"The stack has\", len(the_stack), \"layer(s).\")"
   ]
  },
  {
   "cell_type": "markdown",
   "metadata": {
    "id": "9F2w3fQvqKNE"
   },
   "source": [
    "### NDVI from Landsat\n",
    "\n",
    "https://developers.google.com/earth-engine/guides/image_math#colab-python_1"
   ]
  },
  {
   "cell_type": "code",
   "execution_count": 19,
   "metadata": {
    "colab": {
     "base_uri": "https://localhost:8080/"
    },
    "id": "y5s7JRuOqBxv",
    "outputId": "63fd1e69-e697-4d2d-d1b2-34d5a44c21b0"
   },
   "outputs": [
    {
     "name": "stdout",
     "output_type": "stream",
     "text": [
      "['B1', 'B2', 'B3', 'B4', 'B5', 'B6', 'B7', 'B10', 'B11', 'sr_aerosol', 'pixel_qa', 'radsat_qa']\n"
     ]
    }
   ],
   "source": [
    "def mask_l8sr(image, cloudShadowBitMask=1<<3, cloudBitMask=1<<5):\n",
    "    qa = image.select('pixel_qa')  # Select QA band and get conditional mask.\n",
    "    mask = qa.bitwiseAnd(cloudShadowBitMask).eq(0).And(qa.bitwiseAnd(cloudBitMask).eq(0))\n",
    "    return image.updateMask(mask)  # Return masked image.\n",
    "\n",
    "l8sr = (ee.ImageCollection('LANDSAT/LC08/C01/T1_SR')\n",
    "        .filterDate(START, STOP)\n",
    "        .filterBounds(roi)\n",
    "        .map(mask_l8sr)\n",
    "        .median()).clip(roi)\n",
    "\n",
    "l8sr_bands = l8sr.bandNames().getInfo()\n",
    "print(l8sr_bands)"
   ]
  },
  {
   "cell_type": "code",
   "execution_count": 27,
   "metadata": {},
   "outputs": [
    {
     "name": "stdout",
     "output_type": "stream",
     "text": [
      "Help on method clip in module ee.image:\n",
      "\n",
      "clip(clip_geometry) method of ee.image.Image instance\n",
      "    Clips an image to a Geometry or Feature.\n",
      "    \n",
      "    The output bands correspond exactly the input bands, except data not\n",
      "    covered by the geometry is masked. The output image retains the\n",
      "    metadata of the input image.\n",
      "    \n",
      "    Use clipToCollection to clip an image to a FeatureCollection.\n",
      "    \n",
      "    Args:\n",
      "      clip_geometry: The Geometry or Feature to clip to.\n",
      "    \n",
      "    Returns:\n",
      "      The clipped image.\n",
      "\n"
     ]
    }
   ],
   "source": [
    "help(l8sr.select(\"B1\").clip)"
   ]
  },
  {
   "cell_type": "markdown",
   "metadata": {
    "id": "AftWvCtEqSZL"
   },
   "source": [
    "Calculate NDVI and add it as a band to the existing surface reflectance image:"
   ]
  },
  {
   "cell_type": "code",
   "execution_count": 20,
   "metadata": {
    "colab": {
     "base_uri": "https://localhost:8080/"
    },
    "id": "rar9Bc8rqSll",
    "outputId": "e931f7a4-50ee-46d7-bd22-38e87c0e3a1b"
   },
   "outputs": [
    {
     "name": "stdout",
     "output_type": "stream",
     "text": [
      "The stack has 4 layer(s).\n"
     ]
    }
   ],
   "source": [
    "l8_ndvi = l8sr.normalizedDifference(['B5', 'B4']).rename('ndvi')\n",
    "\n",
    "the_stack['l8'] = l8sr.addBands(l8_ndvi)\n",
    "print(\"The stack has\", len(the_stack), \"layer(s).\")"
   ]
  },
  {
   "cell_type": "markdown",
   "metadata": {},
   "source": [
    "## Inspect the imagery\n",
    "\n",
    "Plot bands ... 4 and 5, and the NDVI ... image:"
   ]
  },
  {
   "cell_type": "code",
   "execution_count": 21,
   "metadata": {},
   "outputs": [
    {
     "data": {
      "application/vnd.jupyter.widget-view+json": {
       "model_id": "afaf2aa3a6f848d69f05c9b3f3c3c658",
       "version_major": 2,
       "version_minor": 0
      },
      "text/plain": [
       "Map(bottom=95438.0, center=[44.180693875072976, -76.02064401349843], controls=(WidgetControl(options=['positio…"
      ]
     },
     "metadata": {},
     "output_type": "display_data"
    }
   ],
   "source": [
    "# def _style():\n",
    "#     if b==\"Percent_Tree_Cover\":\n",
    "#         rng = {'min': 0.0, 'max': 100.0}\n",
    "#     else:\n",
    "#         rng = {'min': 0.0, 'max': 1.0}\n",
    "\n",
    "for src, img in the_stack.items():\n",
    "    for b in img.bandNames().getInfo():\n",
    "        M.addLayer(img.select(b), name=b)\n",
    "M"
   ]
  },
  {
   "cell_type": "markdown",
   "metadata": {
    "id": "JeZVcVJYuGi4"
   },
   "source": [
    "## Run the prediction\n",
    "\n",
    "Some band math on the stack results. (I'm not sure if these are. Priors are dummy values.)"
   ]
  },
  {
   "cell_type": "code",
   "execution_count": 19,
   "metadata": {
    "colab": {
     "base_uri": "https://localhost:8080/"
    },
    "id": "9x8Tag6Gqjft",
    "outputId": "e17a6773-dd00-41d9-ff2c-858f99bb581a"
   },
   "outputs": [
    {
     "data": {
      "text/plain": [
       "ee.image.Image"
      ]
     },
     "execution_count": 19,
     "metadata": {},
     "output_type": "execute_result"
    }
   ],
   "source": [
    "prior_mean = [  0.06491638, \n",
    "              -26.63132179, \n",
    "                0.05590800, \n",
    "              -29.64091620 ]\n",
    "\n",
    "prior_mean_int = ee.Number(6.07)\n",
    "\n",
    "prediction = (ee.Image(prior_mean_int)\n",
    "              #.add((Fmod_tc_aoi.multiply(prior_mean[0]))\n",
    "              .add(s1_radar_volume_index.select('radar_volume_index').multiply(prior_mean[1]))\n",
    "              .add(l8_ndvi.select('ndvi').multiply(prior_mean[2]))\n",
    "              #.add(smooth.select('constant').multiply(prior_mean[3]))))\n",
    "              ).clip(roi)\n",
    "\n",
    "predx = prediction.exp()\n",
    "pred_final = ee.Image(predx.divide(predx.add(1)))\n",
    "type(pred_final)"
   ]
  },
  {
   "cell_type": "markdown",
   "metadata": {
    "id": "uVPiJv1XYlA_"
   },
   "source": [
    "Add the prediction to the stack:"
   ]
  },
  {
   "cell_type": "code",
   "execution_count": 20,
   "metadata": {
    "colab": {
     "base_uri": "https://localhost:8080/"
    },
    "id": "u4aD6LsoYj4n",
    "outputId": "56c891fb-20d4-4619-a04c-7a7c6e147721"
   },
   "outputs": [
    {
     "name": "stdout",
     "output_type": "stream",
     "text": [
      "The stack has 5 layer(s).\n"
     ]
    }
   ],
   "source": [
    "the_stack['prediction'] = prediction\n",
    "print(\"The stack has\", len(the_stack), \"layer(s).\")"
   ]
  },
  {
   "cell_type": "code",
   "execution_count": 35,
   "metadata": {
    "scrolled": false
   },
   "outputs": [
    {
     "name": "stdout",
     "output_type": "stream",
     "text": [
      "name: geo\r\n",
      "channels:\r\n",
      "  - conda-forge\r\n",
      "  - defaults\r\n",
      "dependencies:\r\n",
      "  - _libgcc_mutex=0.1=conda_forge\r\n",
      "  - _openmp_mutex=4.5=1_gnu\r\n",
      "  - aiobotocore=1.2.2=pyhd3eb1b0_0\r\n",
      "  - aiohttp=3.7.4=py39h3811e60_0\r\n",
      "  - aioitertools=0.7.1=pyhd8ed1ab_0\r\n",
      "  - anyio=2.2.0=py39hf3d152e_0\r\n",
      "  - argon2-cffi=20.1.0=py39h3811e60_2\r\n",
      "  - asciitree=0.3.3=py_2\r\n",
      "  - async-timeout=3.0.1=py_1000\r\n",
      "  - async_generator=1.10=py_0\r\n",
      "  - attrs=20.3.0=pyhd3deb0d_0\r\n",
      "  - babel=2.9.0=pyhd3deb0d_0\r\n",
      "  - backcall=0.2.0=pyh9f0ad1d_0\r\n",
      "  - backports=1.0=py_2\r\n",
      "  - backports.functools_lru_cache=1.6.3=pyhd8ed1ab_0\r\n",
      "  - bleach=3.3.0=pyh44b312d_0\r\n",
      "  - bokeh=2.3.1=py39hf3d152e_0\r\n",
      "  - boto3=1.17.49=pyhd8ed1ab_0\r\n",
      "  - botocore=1.20.49=pyhd8ed1ab_0\r\n",
      "  - brotlipy=0.7.0=py39h3811e60_1001\r\n",
      "  - bzip2=1.0.8=h7f98852_4\r\n",
      "  - c-ares=1.17.1=h7f98852_1\r\n",
      "  - ca-certificates=2020.12.5=ha878542_0\r\n",
      "  - cached-property=1.5.2=hd8ed1ab_1\r\n",
      "  - cached_property=1.5.2=pyha770c72_1\r\n",
      "  - cachetools=4.2.2=pyhd8ed1ab_0\r\n",
      "  - cartopy=0.18.0=py39h3b23250_13\r\n",
      "  - certifi=2020.12.5=py39hf3d152e_1\r\n",
      "  - cffi=1.14.5=py39he32792d_0\r\n",
      "  - cftime=1.4.1=py39hce5d2b2_0\r\n",
      "  - chardet=4.0.0=py39hf3d152e_1\r\n",
      "  - click=7.1.2=pyh9f0ad1d_0\r\n",
      "  - cloudpickle=1.6.0=py_0\r\n",
      "  - cryptography=3.4.7=py39hbca0aa6_0\r\n",
      "  - curl=7.76.0=h979ede3_0\r\n",
      "  - cycler=0.10.0=py_2\r\n",
      "  - cytoolz=0.11.0=py39h3811e60_3\r\n",
      "  - dask=2021.4.0=pyhd8ed1ab_0\r\n",
      "  - dask-core=2021.4.0=pyhd8ed1ab_0\r\n",
      "  - dbus=1.13.6=h48d8840_2\r\n",
      "  - decorator=5.0.6=pyhd8ed1ab_0\r\n",
      "  - defusedxml=0.7.1=pyhd8ed1ab_0\r\n",
      "  - distributed=2021.4.0=py39hf3d152e_0\r\n",
      "  - earthengine-api=0.1.263=pyhd8ed1ab_0\r\n",
      "  - entrypoints=0.3=pyhd8ed1ab_1003\r\n",
      "  - expat=2.3.0=h9c3ff4c_0\r\n",
      "  - fasteners=0.14.1=py_3\r\n",
      "  - ffmpeg=4.3.1=hca11adc_2\r\n",
      "  - fontconfig=2.13.1=hba837de_1005\r\n",
      "  - freetype=2.10.4=h0708190_1\r\n",
      "  - fsspec=0.9.0=pyhd8ed1ab_0\r\n",
      "  - future=0.18.2=py39hf3d152e_3\r\n",
      "  - geos=3.9.1=h9c3ff4c_2\r\n",
      "  - gettext=0.19.8.1=h0b5b191_1005\r\n",
      "  - glib=2.68.1=h9c3ff4c_0\r\n",
      "  - glib-tools=2.68.1=h9c3ff4c_0\r\n",
      "  - gmp=6.2.1=h58526e2_0\r\n",
      "  - gnutls=3.6.13=h85f3911_1\r\n",
      "  - google-api-core=1.26.3=pyhd8ed1ab_0\r\n",
      "  - google-api-python-client=1.12.8=pyhd3deb0d_0\r\n",
      "  - google-auth=1.30.0=pyh44b312d_0\r\n",
      "  - google-auth-httplib2=0.1.0=pyhd8ed1ab_0\r\n",
      "  - google-cloud-core=1.5.0=pyhd3deb0d_0\r\n",
      "  - google-cloud-storage=1.19.0=py_0\r\n",
      "  - google-crc32c=1.1.2=py39hb81f231_0\r\n",
      "  - google-resumable-media=1.2.0=pyhd3deb0d_0\r\n",
      "  - googleapis-common-protos=1.53.0=py39hf3d152e_0\r\n",
      "  - grpcio=1.37.1=py39hff7568b_0\r\n",
      "  - gst-plugins-base=1.18.4=h29181c9_0\r\n",
      "  - gstreamer=1.18.4=h76c114f_0\r\n",
      "  - h5netcdf=0.10.0=pyhd8ed1ab_0\r\n",
      "  - h5py=3.1.0=nompi_py39h25020de_100\r\n",
      "  - hdf4=4.2.13=h10796ff_1004\r\n",
      "  - hdf5=1.10.6=nompi_h6a2412b_1114\r\n",
      "  - heapdict=1.0.1=py_0\r\n",
      "  - httplib2=0.19.1=pyhd8ed1ab_0\r\n",
      "  - icu=68.1=h58526e2_0\r\n",
      "  - idna=2.10=pyh9f0ad1d_0\r\n",
      "  - importlib-metadata=3.10.0=py39hf3d152e_0\r\n",
      "  - ipykernel=5.5.3=py39hef51801_0\r\n",
      "  - ipython=7.22.0=py39hef51801_0\r\n",
      "  - ipython_genutils=0.2.0=py_1\r\n",
      "  - jedi=0.18.0=py39hf3d152e_2\r\n",
      "  - jinja2=2.11.3=pyh44b312d_0\r\n",
      "  - jmespath=0.10.0=pyh9f0ad1d_0\r\n",
      "  - jpeg=9d=h36c2ea0_0\r\n",
      "  - json5=0.9.5=pyh9f0ad1d_0\r\n",
      "  - jsonschema=3.2.0=pyhd8ed1ab_3\r\n",
      "  - jupyter-packaging=0.7.12=pyhd8ed1ab_0\r\n",
      "  - jupyter_client=6.1.12=pyhd8ed1ab_0\r\n",
      "  - jupyter_core=4.7.1=py39hf3d152e_0\r\n",
      "  - jupyter_server=1.6.0=py39hf3d152e_0\r\n",
      "  - jupyterlab=3.0.13=pyhd8ed1ab_0\r\n",
      "  - jupyterlab_pygments=0.1.2=pyh9f0ad1d_0\r\n",
      "  - jupyterlab_server=2.4.0=pyhd8ed1ab_0\r\n",
      "  - kiwisolver=1.3.1=py39h1a9c180_1\r\n",
      "  - krb5=1.17.2=h926e7f8_0\r\n",
      "  - lame=3.100=h7f98852_1001\r\n",
      "  - lcms2=2.12=hddcbb42_0\r\n",
      "  - ld_impl_linux-64=2.35.1=hea4e1c9_2\r\n",
      "  - libblas=3.9.0=8_openblas\r\n",
      "  - libcblas=3.9.0=8_openblas\r\n",
      "  - libclang=11.1.0=default_ha53f305_0\r\n",
      "  - libcrc32c=1.1.1=h9c3ff4c_2\r\n",
      "  - libcurl=7.76.0=hc4aaa36_0\r\n",
      "  - libedit=3.1.20191231=he28a2e2_2\r\n",
      "  - libev=4.33=h516909a_1\r\n",
      "  - libevent=2.1.10=hcdb4288_3\r\n",
      "  - libffi=3.3=h58526e2_2\r\n",
      "  - libgcc-ng=9.3.0=h2828fa1_18\r\n",
      "  - libgfortran-ng=9.3.0=hff62375_18\r\n",
      "  - libgfortran5=9.3.0=hff62375_18\r\n",
      "  - libglib=2.68.1=h3e27bee_0\r\n",
      "  - libgomp=9.3.0=h2828fa1_18\r\n",
      "  - libiconv=1.16=h516909a_0\r\n",
      "  - liblapack=3.9.0=8_openblas\r\n",
      "  - libllvm11=11.1.0=hf817b99_2\r\n",
      "  - libnetcdf=4.8.0=nompi_hf7493bd_100\r\n",
      "  - libnghttp2=1.43.0=h812cca2_0\r\n",
      "  - libopenblas=0.3.12=pthreads_h4812303_1\r\n",
      "  - libpng=1.6.37=h21135ba_2\r\n",
      "  - libpq=13.1=hfd2b0eb_2\r\n",
      "  - libprotobuf=3.15.8=h780b84a_0\r\n",
      "  - libsodium=1.0.18=h36c2ea0_1\r\n",
      "  - libssh2=1.9.0=ha56f1ee_6\r\n",
      "  - libstdcxx-ng=9.3.0=h6de172a_18\r\n",
      "  - libtiff=4.2.0=hdc55705_0\r\n",
      "  - libuuid=2.32.1=h7f98852_1000\r\n",
      "  - libwebp-base=1.2.0=h7f98852_2\r\n",
      "  - libxcb=1.13=h7f98852_1003\r\n",
      "  - libxkbcommon=1.0.3=he3ba5ed_0\r\n",
      "  - libxml2=2.9.10=h72842e0_3\r\n",
      "  - locket=0.2.0=py_2\r\n",
      "  - lz4-c=1.9.3=h9c3ff4c_0\r\n",
      "  - markupsafe=1.1.1=py39h3811e60_3\r\n",
      "  - matplotlib=3.4.1=py39hf3d152e_0\r\n",
      "  - matplotlib-base=3.4.1=py39h2fa2bec_0\r\n",
      "  - mistune=0.8.4=py39h3811e60_1003\r\n",
      "  - monotonic=1.5=py_0\r\n",
      "  - msgpack-python=1.0.2=py39h1a9c180_1\r\n",
      "  - multidict=5.1.0=py39h3811e60_1\r\n",
      "  - mysql-common=8.0.23=ha770c72_1\r\n",
      "  - mysql-libs=8.0.23=h935591d_1\r\n",
      "  - nbclassic=0.2.7=pyhd8ed1ab_0\r\n",
      "  - nbclient=0.5.3=pyhd8ed1ab_0\r\n",
      "  - nbconvert=6.0.7=py39hf3d152e_3\r\n",
      "  - nbformat=5.1.3=pyhd8ed1ab_0\r\n",
      "  - ncurses=6.2=h58526e2_4\r\n",
      "  - nest-asyncio=1.5.1=pyhd8ed1ab_0\r\n",
      "  - netcdf4=1.5.6=nompi_py39hc6dca20_101\r\n",
      "  - nettle=3.6=he412f7d_0\r\n",
      "  - notebook=6.3.0=py39hf3d152e_0\r\n",
      "  - nspr=4.30=h9c3ff4c_0\r\n",
      "  - nss=3.63=hb5efdd6_0\r\n",
      "  - numcodecs=0.7.3=py39he80948d_0\r\n",
      "  - numpy=1.20.2=py39hdbf815f_0\r\n",
      "  - olefile=0.46=pyh9f0ad1d_1\r\n",
      "  - openh264=2.1.1=h780b84a_0\r\n",
      "  - openjpeg=2.4.0=hf7af979_0\r\n",
      "  - openssl=1.1.1k=h7f98852_0\r\n",
      "  - packaging=20.9=pyh44b312d_0\r\n",
      "  - pandas=1.2.3=py39hde0f152_0\r\n",
      "  - pandoc=2.12=h7f98852_0\r\n",
      "  - pandocfilters=1.4.2=py_1\r\n",
      "  - parso=0.8.2=pyhd8ed1ab_0\r\n",
      "  - partd=1.2.0=pyhd8ed1ab_0\r\n",
      "  - pcre=8.44=he1b5a44_0\r\n",
      "  - pexpect=4.8.0=pyh9f0ad1d_2\r\n",
      "  - pickleshare=0.7.5=py_1003\r\n",
      "  - pillow=8.1.2=py39hf95b381_1\r\n",
      "  - pip=21.0.1=pyhd8ed1ab_0\r\n",
      "  - proj=7.2.0=h277dcde_2\r\n",
      "  - prometheus_client=0.10.1=pyhd8ed1ab_0\r\n",
      "  - prompt-toolkit=3.0.18=pyha770c72_0\r\n",
      "  - protobuf=3.15.8=py39he80948d_0\r\n",
      "  - psutil=5.8.0=py39h3811e60_1\r\n",
      "  - pthread-stubs=0.4=h36c2ea0_1001\r\n",
      "  - ptyprocess=0.7.0=pyhd3deb0d_0\r\n",
      "  - pyasn1=0.4.8=py_0\r\n",
      "  - pyasn1-modules=0.2.7=py_0\r\n",
      "  - pycparser=2.20=pyh9f0ad1d_2\r\n",
      "  - pygments=2.8.1=pyhd8ed1ab_0\r\n",
      "  - pyopenssl=20.0.1=pyhd8ed1ab_0\r\n",
      "  - pyparsing=2.4.7=pyh9f0ad1d_0\r\n",
      "  - pyqt=5.12.3=py39hf3d152e_7\r\n",
      "  - pyqt-impl=5.12.3=py39h0fcd23e_7\r\n",
      "  - pyqt5-sip=4.19.18=py39he80948d_7\r\n",
      "  - pyqtchart=5.12=py39h0fcd23e_7\r\n",
      "  - pyqtwebengine=5.12.1=py39h0fcd23e_7\r\n",
      "  - pyrsistent=0.17.3=py39h3811e60_2\r\n",
      "  - pyshp=2.1.3=pyh44b312d_0\r\n",
      "  - pysocks=1.7.1=py39hf3d152e_3\r\n",
      "  - python=3.9.2=hffdb5ce_0_cpython\r\n",
      "  - python-dateutil=2.8.1=py_0\r\n",
      "  - python_abi=3.9=1_cp39\r\n",
      "  - pytz=2021.1=pyhd8ed1ab_0\r\n",
      "  - pyyaml=5.4.1=py39h3811e60_0\r\n",
      "  - pyzmq=22.0.3=py39h37b5a0c_1\r\n",
      "  - qt=5.12.9=hda022c4_4\r\n",
      "  - readline=8.0=he28a2e2_2\r\n",
      "  - requests=2.25.1=pyhd3deb0d_0\r\n",
      "  - rsa=4.7.2=pyh44b312d_0\r\n",
      "  - s3fs=0.6.0=pyhd8ed1ab_0\r\n",
      "  - s3transfer=0.3.6=pyhd8ed1ab_0\r\n",
      "  - scipy=1.6.2=py39hee8e79c_0\r\n",
      "  - send2trash=1.5.0=py_0\r\n",
      "  - setuptools=49.6.0=py39hf3d152e_3\r\n",
      "  - shapely=1.7.1=py39ha61afbd_4\r\n",
      "  - simplejson=3.17.2=py39h3811e60_2\r\n",
      "  - six=1.15.0=pyh9f0ad1d_0\r\n",
      "  - sniffio=1.2.0=py39hf3d152e_1\r\n",
      "  - sortedcontainers=2.3.0=pyhd8ed1ab_0\r\n",
      "  - sqlite=3.35.4=h74cdb3f_0\r\n",
      "  - tblib=1.7.0=pyhd8ed1ab_0\r\n",
      "  - terminado=0.9.4=py39hf3d152e_0\r\n",
      "  - testpath=0.4.4=py_0\r\n",
      "  - tk=8.6.10=h21135ba_1\r\n",
      "  - toolz=0.11.1=py_0\r\n",
      "  - tornado=6.1=py39h3811e60_1\r\n",
      "  - tqdm=4.60.0=pyhd8ed1ab_0\r\n",
      "  - traitlets=5.0.5=py_0\r\n",
      "  - typing-extensions=3.7.4.3=0\r\n",
      "  - typing_extensions=3.7.4.3=py_0\r\n",
      "  - tzdata=2021a=he74cb21_0\r\n",
      "  - uritemplate=3.0.1=py_0\r\n",
      "  - urllib3=1.26.4=pyhd8ed1ab_0\r\n",
      "  - wcwidth=0.2.5=pyh9f0ad1d_2\r\n",
      "  - webencodings=0.5.1=py_1\r\n",
      "  - wheel=0.36.2=pyhd3deb0d_0\r\n",
      "  - wrapt=1.12.1=py39h3811e60_3\r\n",
      "  - x264=1!161.3030=h7f98852_0\r\n",
      "  - xarray=0.17.0=pyhd8ed1ab_0\r\n",
      "  - xorg-libxau=1.0.9=h7f98852_0\r\n",
      "  - xorg-libxdmcp=1.1.3=h7f98852_0\r\n",
      "  - xz=5.2.5=h516909a_1\r\n",
      "  - yaml=0.2.5=h516909a_0\r\n",
      "  - yarl=1.6.3=py39h3811e60_1\r\n",
      "  - zarr=2.7.0=pyhd8ed1ab_0\r\n",
      "  - zeromq=4.3.4=h9c3ff4c_0\r\n",
      "  - zict=2.0.0=py_0\r\n",
      "  - zipp=3.4.1=pyhd8ed1ab_0\r\n",
      "  - zlib=1.2.11=h516909a_1010\r\n",
      "  - zstd=1.4.9=ha95c52a_0\r\n",
      "  - pip:\r\n",
      "    - beautifulsoup4==4.9.3\r\n",
      "    - bqplot==0.12.26\r\n",
      "    - branca==0.4.2\r\n",
      "    - colour==0.1.5\r\n",
      "    - ffmpeg-python==0.2.0\r\n",
      "    - folium==0.12.1\r\n",
      "    - geeadd==0.5.4\r\n",
      "    - geemap==0.8.15\r\n",
      "    - geocoder==1.38.1\r\n",
      "    - googledrivedownloader==0.4\r\n",
      "    - httplib2shim==0.0.3\r\n",
      "    - ipyevents==0.8.2\r\n",
      "    - ipyfilechooser==0.4.3\r\n",
      "    - ipyleaflet==0.13.3\r\n",
      "    - ipynb-py-convert==0.4.6\r\n",
      "    - ipytree==0.2.1\r\n",
      "    - ipywidgets==7.6.3\r\n",
      "    - jupyterlab-widgets==1.0.0\r\n",
      "    - logzero==1.7.0\r\n",
      "    - mss==6.1.0\r\n",
      "    - pycrs==1.0.2\r\n",
      "    - python-box==5.3.0\r\n",
      "    - ratelim==0.1.6\r\n",
      "    - soupsieve==2.2.1\r\n",
      "    - traittypes==0.2.1\r\n",
      "    - voila==0.2.10\r\n",
      "    - whitebox==1.4.1\r\n",
      "    - whiteboxgui==0.1.9\r\n",
      "    - widgetsnbextension==3.5.1\r\n",
      "prefix: /home/admin/conda/envs/geo\r\n"
     ]
    }
   ],
   "source": [
    "#!conda env export -f environment.yml\n",
    "name: geo\n",
    "channels:\n",
    "  - conda-forge\n",
    "  - defaults\n",
    "dependencies:\n",
    "  - ee\n",
    "  - geemap\n",
    "  - math\n",
    "  - random\n",
    "  - requests\n",
    "  - pandas"
   ]
  },
  {
   "cell_type": "markdown",
   "metadata": {},
   "source": [
    "## Scratch\n",
    "\n",
    "### Scale"
   ]
  },
  {
   "cell_type": "code",
   "execution_count": 21,
   "metadata": {},
   "outputs": [
    {
     "name": "stdout",
     "output_type": "stream",
     "text": [
      "Help on method Projection.nominalScale in Projection:\n",
      "\n",
      "Projection.nominalScale(*args, **kwargs) method of ee.Projection instance\n",
      "    Returns the linear scale in meters of the units of this projection, as\n",
      "    measured at the point of true scale.\n",
      "    \n",
      "    Args:\n",
      "      proj:\n",
      "\n"
     ]
    }
   ],
   "source": [
    "help(the_stack['prediction'].projection().nominalScale)"
   ]
  },
  {
   "cell_type": "code",
   "execution_count": 22,
   "metadata": {
    "scrolled": true
   },
   "outputs": [
    {
     "data": {
      "text/plain": [
       "111319.49079327357"
      ]
     },
     "execution_count": 22,
     "metadata": {},
     "output_type": "execute_result"
    }
   ],
   "source": [
    "the_stack['prediction'].projection().nominalScale().getInfo()"
   ]
  },
  {
   "cell_type": "code",
   "execution_count": 23,
   "metadata": {
    "scrolled": true
   },
   "outputs": [
    {
     "name": "stdout",
     "output_type": "stream",
     "text": [
      "s1 111319.49079327357\n",
      "alos2 111319.49079327357\n",
      "modis 231.656358264\n",
      "l8 111319.49079327357\n",
      "prediction 111319.49079327357\n"
     ]
    }
   ],
   "source": [
    "proj = {}\n",
    "for src, img in the_stack.items():\n",
    "    p = img.projection()\n",
    "    proj[src] = p.wkt().getInfo()\n",
    "    print(src, img.projection().nominalScale().getInfo())"
   ]
  },
  {
   "cell_type": "code",
   "execution_count": 24,
   "metadata": {},
   "outputs": [
    {
     "name": "stdout",
     "output_type": "stream",
     "text": [
      "GEOGCS[\"WGS 84\", \n",
      "  DATUM[\"World Geodetic System 1984\", \n",
      "    SPHEROID[\"WGS 84\", 6378137.0, 298.257223563, AUTHORITY[\"EPSG\",\"7030\"]], \n",
      "    AUTHORITY[\"EPSG\",\"6326\"]], \n",
      "  PRIMEM[\"Greenwich\", 0.0, AUTHORITY[\"EPSG\",\"8901\"]], \n",
      "  UNIT[\"degree\", 0.017453292519943295], \n",
      "  AXIS[\"Geodetic longitude\", EAST], \n",
      "  AXIS[\"Geodetic latitude\", NORTH], \n",
      "  AUTHORITY[\"EPSG\",\"4326\"]]\n"
     ]
    }
   ],
   "source": [
    "print(proj['s1'])"
   ]
  },
  {
   "cell_type": "code",
   "execution_count": 28,
   "metadata": {},
   "outputs": [
    {
     "name": "stdout",
     "output_type": "stream",
     "text": [
      "Help on method Image.reduceRegion in Image:\n",
      "\n",
      "Image.reduceRegion(*args, **kwargs) method of ee.image.Image instance\n",
      "    Apply a reducer to all the pixels in a specific region. Either the reducer\n",
      "    must have the same number of inputs as the input image has bands, or it\n",
      "    must have a single input and will be repeated for each band. Returns a\n",
      "    dictionary of the reducer's outputs.\n",
      "    \n",
      "    Args:\n",
      "      image: The image to reduce.\n",
      "      reducer: The reducer to apply.\n",
      "      geometry: The region over which to reduce data.  Defaults to\n",
      "          the footprint of the image's first band.\n",
      "      scale: A nominal scale in meters of the projection to work in.\n",
      "      crs: The projection to work in. If unspecified, the projection of\n",
      "          the image's first band is used. If specified in addition to\n",
      "          scale, rescaled to the specified scale.\n",
      "      crsTransform: The list of CRS transform values.  This is\n",
      "          a row-major ordering of the 3x2 transform matrix.\n",
      "          This option is mutually exclusive with 'scale', and\n",
      "          replaces any transform already set on the projection.\n",
      "      bestEffort: If the polygon would contain too many pixels at\n",
      "          the given scale, compute and use a larger scale which\n",
      "          would allow the operation to succeed.\n",
      "      maxPixels: The maximum number of pixels to reduce.\n",
      "      tileScale: A scaling factor between 0.1 and 16 used to\n",
      "          adjust aggregation tile size; setting a larger tileScale\n",
      "          (e.g. 2 or 4) uses smaller tiles and may enable\n",
      "          computations that run out of memory with the default.\n",
      "\n"
     ]
    }
   ],
   "source": [
    "help(img.reduceRegion)"
   ]
  },
  {
   "cell_type": "code",
   "execution_count": 31,
   "metadata": {},
   "outputs": [
    {
     "name": "stdout",
     "output_type": "stream",
     "text": [
      "Help on method Image.resample in Image:\n",
      "\n",
      "Image.resample(*args, **kwargs) method of ee.image.Image instance\n",
      "    An algorithm that returns an image identical to its argument, but which\n",
      "    uses bilinear or bicubic interpolation (rather than the default nearest-\n",
      "    neighbor) to compute pixels in projections other than its native projection\n",
      "    or other levels of the same image pyramid. This relies on the input image's\n",
      "    default projection being meaningful, and so cannot be used on composites,\n",
      "    for example. (Instead, you should resample the images that are used to\n",
      "    create the composite.)\n",
      "    \n",
      "    Args:\n",
      "      image: The Image to resample.\n",
      "      mode: The interpolation mode to use.  One of 'bilinear' or\n",
      "          'bicubic'.)\n",
      "\n"
     ]
    }
   ],
   "source": [
    "help(the_stack['s1'].resample)"
   ]
  },
  {
   "cell_type": "code",
   "execution_count": null,
   "metadata": {},
   "outputs": [],
   "source": [
    "the_stack['s1'].resample(mode=\"bilinear\")"
   ]
  },
  {
   "cell_type": "markdown",
   "metadata": {
    "id": "BMhDVsLFSdIm"
   },
   "source": [
    "## Build the table\n",
    "\n",
    "```python\n",
    "print(the_stack['l8'].sample(region=tmp.iloc[0], scale=30).getInfo())\n",
    "```"
   ]
  },
  {
   "cell_type": "code",
   "execution_count": null,
   "metadata": {
    "colab": {
     "base_uri": "https://localhost:8080/"
    },
    "id": "Jo_3AOD1fvlO",
    "outputId": "36d7fdc2-d3a0-4ba1-a11b-8ae5898b8f8b"
   },
   "outputs": [],
   "source": [
    "def get_val(img, geom):\n",
    "    return img.reduceRegion(ee.Reducer.mean(), geom, 30).getInfo()\n",
    "\n",
    "def get_row(geom, buffer_dist: float=0.1, buffer_proj: str=None):\n",
    "    row_geom = geom.buffer(distance=buffer_dist, proj=buffer_proj)\n",
    "    row_data = {'metadata': {}}\n",
    "    for name, img in the_stack.items():\n",
    "        img_data = get_val(img, geom)\n",
    "        #img_data = get_val(img, row_geom)\n",
    "        for band, val in img_data.items():\n",
    "            row_data[f\"{name}_{band}\".lower()] = val\n",
    "        row_data['metadata'][name] = dumps(img.getInfo())\n",
    "    return row_data"
   ]
  },
  {
   "cell_type": "code",
   "execution_count": null,
   "metadata": {},
   "outputs": [],
   "source": [
    "# Extract values at each point for each image in the stack into a data frame.\n",
    "data = pd.DataFrame(pts.apply(get_geom, axis=1).apply(get_row).tolist())\n",
    "\n",
    "# Join the data frame to the original pts data frame.\n",
    "out = pts.join(data)\n",
    "\n",
    "out.info()"
   ]
  },
  {
   "cell_type": "code",
   "execution_count": null,
   "metadata": {},
   "outputs": [],
   "source": [
    "out.iloc[0]"
   ]
  },
  {
   "cell_type": "code",
   "execution_count": null,
   "metadata": {},
   "outputs": [],
   "source": [
    "out.describe()"
   ]
  },
  {
   "cell_type": "markdown",
   "metadata": {
    "id": "3nWSBLqluq1V"
   },
   "source": [
    "## Export to Google Drive\n",
    "\n",
    "We used pandas to generate the table so we may write to Google Drive with the `pd.DataFrame.to_csv` method.\n",
    "\n",
    "```python\n",
    "# Omit the column of json metadata from the output table.\n",
    "out_columns = [c for c in out.columns if c != \"metadata\"]\n",
    "\n",
    "# Write the selected columns to a csv:\n",
    "out[out_columns].to_csv(\"outputs.csv\", index=None)\n",
    "```"
   ]
  },
  {
   "cell_type": "code",
   "execution_count": null,
   "metadata": {
    "id": "EfLiQ1TkxnQK"
   },
   "outputs": [],
   "source": []
  },
  {
   "cell_type": "code",
   "execution_count": null,
   "metadata": {
    "id": "Y9AmDsGn3axa"
   },
   "outputs": [],
   "source": []
  }
 ],
 "metadata": {
  "colab": {
   "collapsed_sections": [],
   "name": "vegMapper.ipynb",
   "provenance": [],
   "toc_visible": true
  },
  "kernelspec": {
   "display_name": "Python 3",
   "language": "python",
   "name": "python3"
  },
  "language_info": {
   "codemirror_mode": {
    "name": "ipython",
    "version": 3
   },
   "file_extension": ".py",
   "mimetype": "text/x-python",
   "name": "python",
   "nbconvert_exporter": "python",
   "pygments_lexer": "ipython3",
   "version": "3.9.2"
  }
 },
 "nbformat": 4,
 "nbformat_minor": 1
}
