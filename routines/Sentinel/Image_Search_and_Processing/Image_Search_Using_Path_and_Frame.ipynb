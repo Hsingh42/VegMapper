{
 "cells": [
  {
   "cell_type": "code",
   "execution_count": 1,
   "metadata": {},
   "outputs": [],
   "source": [
    "import requests\n",
    "import io\n",
    "import pandas as pd # using pandas to concatenate CSV files"
   ]
  },
  {
   "cell_type": "code",
   "execution_count": 2,
   "metadata": {},
   "outputs": [],
   "source": [
    "# polarization\n",
    "polarization = \"VV%2bVH\" # VV+VH\n",
    "\n",
    "# processingLevel. only want GRD-HD images\n",
    "processing_level = \"GRD_HD\"\n",
    "\n",
    "flightDirection = \"DESCENDING\"\n",
    "\n",
    "# output format\n",
    "output = \"CSV\"\n",
    "\n",
    "# first available date for data from Sentinel-1B\n",
    "s1b_data_available_date = \"2016-04-28T00:00:00UTC\""
   ]
  },
  {
   "cell_type": "code",
   "execution_count": 3,
   "metadata": {},
   "outputs": [],
   "source": [
    "# Read metadata from file, other metadata is hardcoded above\n",
    "metadata_dict = {\n",
    "    \"path_frame_list\": [], # list of lists, each of length 2, containing path and frame\n",
    "    \"start\": None,\n",
    "    \"end\": None\n",
    "}\n",
    "with open(\"PathFrame_Metadata-SB.txt\", \"r\") as metadata: # metadata2.txt\n",
    "    for line in metadata:\n",
    "        line = line.strip()\n",
    "        if len(line) == 0:\n",
    "            continue\n",
    "            \n",
    "        key, val = line.split(\": \")\n",
    "        \n",
    "        if key == \"PathFrame\":\n",
    "            metadata_dict[\"path_frame_list\"].append(val.split(\" \")) # append list e.g. ['25', '621']\n",
    "            continue\n",
    "            \n",
    "        metadata_dict[key.strip()] = val.strip()"
   ]
  },
  {
   "cell_type": "code",
   "execution_count": 4,
   "metadata": {},
   "outputs": [
    {
     "data": {
      "text/plain": [
       "{'path_frame_list': [['25', '622'],\n",
       "  ['25', '626'],\n",
       "  ['25', '627'],\n",
       "  ['25', '628'],\n",
       "  ['25', '631'],\n",
       "  ['98', '617'],\n",
       "  ['98', '622'],\n",
       "  ['98', '627'],\n",
       "  ['171', '616'],\n",
       "  ['171', '617'],\n",
       "  ['171', '621'],\n",
       "  ['171', '622']],\n",
       " 'start': '2016-04-28T00:00:00UTC',\n",
       " 'end': '2020-09-14T00:00:00UTC'}"
      ]
     },
     "execution_count": 4,
     "metadata": {},
     "output_type": "execute_result"
    }
   ],
   "source": [
    "metadata_dict"
   ]
  },
  {
   "cell_type": "code",
   "execution_count": 5,
   "metadata": {},
   "outputs": [],
   "source": [
    "base_url_list = [\"https://api.daac.asf.alaska.edu/services/search/param?\"]"
   ]
  },
  {
   "cell_type": "code",
   "execution_count": 6,
   "metadata": {},
   "outputs": [],
   "source": [
    "# add polarization parameter\n",
    "base_url_list.append(\"polarization=\" + polarization + \"&\")\n",
    "\n",
    "# add processing level\n",
    "base_url_list.append(\"processingLevel=\" + processing_level + \"&\")\n",
    "\n",
    "# add flight direction parameter\n",
    "base_url_list.append(\"flightDirection=\" + flightDirection + \"&\")\n",
    "\n",
    "# add output format \n",
    "base_url_list.append(\"output=\" + output + \"&\")"
   ]
  },
  {
   "cell_type": "code",
   "execution_count": 7,
   "metadata": {},
   "outputs": [],
   "source": [
    "# a list of dataframes from each API call. Needs to be combined later. \n",
    "df_list = [] "
   ]
  },
  {
   "cell_type": "code",
   "execution_count": 8,
   "metadata": {},
   "outputs": [
    {
     "name": "stdout",
     "output_type": "stream",
     "text": [
      "collecting s1b data between start 2016-04-28T00:00:00UTC and end 2020-09-14T00:00:00UTC\n",
      "path 25 frame 622\n",
      "request url: https://api.daac.asf.alaska.edu/services/search/param?polarization=VV%2bVH&processingLevel=GRD_HD&flightDirection=DESCENDING&output=CSV&platform=SB&start=2016-04-28T00:00:00UTC&end=2020-09-14T00:00:00UTC&relativeOrbit=25&frame=622&\n",
      "got 8 images\n",
      "path 25 frame 626\n",
      "request url: https://api.daac.asf.alaska.edu/services/search/param?polarization=VV%2bVH&processingLevel=GRD_HD&flightDirection=DESCENDING&output=CSV&platform=SB&start=2016-04-28T00:00:00UTC&end=2020-09-14T00:00:00UTC&relativeOrbit=25&frame=626&\n",
      "got 99 images\n",
      "path 25 frame 627\n",
      "request url: https://api.daac.asf.alaska.edu/services/search/param?polarization=VV%2bVH&processingLevel=GRD_HD&flightDirection=DESCENDING&output=CSV&platform=SB&start=2016-04-28T00:00:00UTC&end=2020-09-14T00:00:00UTC&relativeOrbit=25&frame=627&\n",
      "got 4 images\n",
      "path 25 frame 628\n",
      "request url: https://api.daac.asf.alaska.edu/services/search/param?polarization=VV%2bVH&processingLevel=GRD_HD&flightDirection=DESCENDING&output=CSV&platform=SB&start=2016-04-28T00:00:00UTC&end=2020-09-14T00:00:00UTC&relativeOrbit=25&frame=628&\n",
      "got 8 images\n",
      "path 25 frame 631\n",
      "request url: https://api.daac.asf.alaska.edu/services/search/param?polarization=VV%2bVH&processingLevel=GRD_HD&flightDirection=DESCENDING&output=CSV&platform=SB&start=2016-04-28T00:00:00UTC&end=2020-09-14T00:00:00UTC&relativeOrbit=25&frame=631&\n",
      "got 99 images\n",
      "path 98 frame 617\n",
      "request url: https://api.daac.asf.alaska.edu/services/search/param?polarization=VV%2bVH&processingLevel=GRD_HD&flightDirection=DESCENDING&output=CSV&platform=SB&start=2016-04-28T00:00:00UTC&end=2020-09-14T00:00:00UTC&relativeOrbit=98&frame=617&\n",
      "got 109 images\n",
      "path 98 frame 622\n",
      "request url: https://api.daac.asf.alaska.edu/services/search/param?polarization=VV%2bVH&processingLevel=GRD_HD&flightDirection=DESCENDING&output=CSV&platform=SB&start=2016-04-28T00:00:00UTC&end=2020-09-14T00:00:00UTC&relativeOrbit=98&frame=622&\n",
      "got 109 images\n",
      "path 98 frame 627\n",
      "request url: https://api.daac.asf.alaska.edu/services/search/param?polarization=VV%2bVH&processingLevel=GRD_HD&flightDirection=DESCENDING&output=CSV&platform=SB&start=2016-04-28T00:00:00UTC&end=2020-09-14T00:00:00UTC&relativeOrbit=98&frame=627&\n",
      "got 109 images\n",
      "path 171 frame 616\n",
      "request url: https://api.daac.asf.alaska.edu/services/search/param?polarization=VV%2bVH&processingLevel=GRD_HD&flightDirection=DESCENDING&output=CSV&platform=SB&start=2016-04-28T00:00:00UTC&end=2020-09-14T00:00:00UTC&relativeOrbit=171&frame=616&\n",
      "got 10 images\n",
      "path 171 frame 617\n",
      "request url: https://api.daac.asf.alaska.edu/services/search/param?polarization=VV%2bVH&processingLevel=GRD_HD&flightDirection=DESCENDING&output=CSV&platform=SB&start=2016-04-28T00:00:00UTC&end=2020-09-14T00:00:00UTC&relativeOrbit=171&frame=617&\n",
      "got 89 images\n",
      "path 171 frame 621\n",
      "request url: https://api.daac.asf.alaska.edu/services/search/param?polarization=VV%2bVH&processingLevel=GRD_HD&flightDirection=DESCENDING&output=CSV&platform=SB&start=2016-04-28T00:00:00UTC&end=2020-09-14T00:00:00UTC&relativeOrbit=171&frame=621&\n",
      "got 10 images\n",
      "path 171 frame 622\n",
      "request url: https://api.daac.asf.alaska.edu/services/search/param?polarization=VV%2bVH&processingLevel=GRD_HD&flightDirection=DESCENDING&output=CSV&platform=SB&start=2016-04-28T00:00:00UTC&end=2020-09-14T00:00:00UTC&relativeOrbit=171&frame=622&\n",
      "got 89 images\n"
     ]
    }
   ],
   "source": [
    "# If start date is before the first available date data is available for Sentinel-1B, \n",
    "# then get images from Sentinel-1A until images are available for 1B\n",
    "if metadata_dict[\"start\"] < s1b_data_available_date: # Since dates are in year-month-day format we can do a simple string comparison \n",
    "    print(\"start date is before s1 data available date\")\n",
    "    s1a_url_list_copy = base_url_list.copy() # make a copy of the base url specifically for s1a data\n",
    "    # add platform\n",
    "    platform = \"SA\"\n",
    "    s1a_url_list_copy.append(\"platform=\" + platform + \"&\")\n",
    "    \n",
    "    # add dates to url\n",
    "    s1a_url_list_copy.append(\"start=\" + metadata_dict[\"start\"] + \"&\" + \"end=\" + s1b_data_available_date + \"&\")\n",
    "    \n",
    "    print(\"collecting s1a data between start\", metadata_dict[\"start\"], \"and s1b_data_available_date\", s1b_data_available_date)\n",
    "    \n",
    "    # for each path frame, add it to the url and call API\n",
    "    for path, frame in metadata_dict[\"path_frame_list\"]:\n",
    "        print(\"path\", path, \"frame\", frame)\n",
    "        s1a_url_list_with_path_frame = s1a_url_list_copy.copy() # url will change each loop so make a copy before changing it\n",
    "        \n",
    "        s1a_url_list_with_path_frame.append(\"relativeOrbit=\" + path + \"&\")\n",
    "        s1a_url_list_with_path_frame.append(\"frame=\" + frame + \"&\")\n",
    "        \n",
    "        s1a_url = \"\".join(s1a_url_list_with_path_frame)\n",
    "        print(s1a_url)\n",
    "        r = requests.get(s1a_url)\n",
    "        \n",
    "        df = pd.read_csv(io.StringIO(r.text)) # convert csv string to data frame\n",
    "        \n",
    "        print(\"got\", len(df), \"images\")\n",
    "        \n",
    "        df_list.append(df)\n",
    "\n",
    "# Now get images from Sentinel-1B between start date and end date. \n",
    "# There should not be any images for 1B between (start) and (the first available date images are available for 1B). \n",
    "print(\"collecting s1b data between start\", metadata_dict[\"start\"], \"and end\", metadata_dict[\"end\"])\n",
    "# add platform\n",
    "platform = \"SB\"\n",
    "base_url_list.append(\"platform=\" + platform + \"&\")\n",
    "\n",
    "# add dates to url \n",
    "base_url_list.append(\"start=\" + metadata_dict[\"start\"] + \"&\" + \"end=\" + metadata_dict[\"end\"] + \"&\")\n",
    "\n",
    "for path, frame in metadata_dict[\"path_frame_list\"]:\n",
    "    print(\"path\", path, \"frame\", frame)\n",
    "    s1b_url_list_with_path_frame = base_url_list.copy()\n",
    "    \n",
    "    s1b_url_list_with_path_frame.append(\"relativeOrbit=\" + path + \"&\")\n",
    "    s1b_url_list_with_path_frame.append(\"frame=\" + frame + \"&\")\n",
    "    \n",
    "    s1b_url = \"\".join(s1b_url_list_with_path_frame)\n",
    "    print(\"request url:\", s1b_url)\n",
    "    r = requests.get(s1b_url)\n",
    "        \n",
    "    df = pd.read_csv(io.StringIO(r.text)) # convert csv string to data frame\n",
    "    \n",
    "    print(\"got\", len(df), \"images\")\n",
    "\n",
    "    df_list.append(df)"
   ]
  },
  {
   "cell_type": "code",
   "execution_count": 9,
   "metadata": {},
   "outputs": [],
   "source": [
    "# combine all CSVs into a single one\n",
    "df = pd.concat(df_list).sort_values(\"Acquisition Date\")"
   ]
  },
  {
   "cell_type": "code",
   "execution_count": 10,
   "metadata": {},
   "outputs": [],
   "source": [
    "# Write dataframe to csv file\n",
    "df.to_csv(\"output.csv\", index=False)"
   ]
  },
  {
   "cell_type": "code",
   "execution_count": null,
   "metadata": {},
   "outputs": [],
   "source": []
  },
  {
   "cell_type": "code",
   "execution_count": 11,
   "metadata": {},
   "outputs": [
    {
     "name": "stdout",
     "output_type": "stream",
     "text": [
      "743\n"
     ]
    }
   ],
   "source": [
    "# delete below\n",
    "print(len(df))"
   ]
  },
  {
   "cell_type": "code",
   "execution_count": null,
   "metadata": {},
   "outputs": [],
   "source": [
    "df.columns"
   ]
  },
  {
   "cell_type": "code",
   "execution_count": null,
   "metadata": {},
   "outputs": [],
   "source": [
    "df.loc[(df[\"Path Number\"] == 98) & (df[\"Frame Number\"] == 617)]"
   ]
  },
  {
   "cell_type": "code",
   "execution_count": null,
   "metadata": {},
   "outputs": [],
   "source": [
    "df.loc[(df[\"Path Number\"] == 25) & (df[\"Frame Number\"] == 631)]"
   ]
  },
  {
   "cell_type": "code",
   "execution_count": null,
   "metadata": {},
   "outputs": [],
   "source": []
  }
 ],
 "metadata": {
  "kernelspec": {
   "display_name": "Python 3",
   "language": "python",
   "name": "python3"
  },
  "language_info": {
   "codemirror_mode": {
    "name": "ipython",
    "version": 3
   },
   "file_extension": ".py",
   "mimetype": "text/x-python",
   "name": "python",
   "nbconvert_exporter": "python",
   "pygments_lexer": "ipython3",
   "version": "3.7.7"
  }
 },
 "nbformat": 4,
 "nbformat_minor": 4
}
